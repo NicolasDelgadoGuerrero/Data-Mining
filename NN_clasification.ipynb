{
  "nbformat": 4,
  "nbformat_minor": 0,
  "metadata": {
    "colab": {
      "name": "Actividad1.ipynb",
      "provenance": [],
      "collapsed_sections": []
    },
    "kernelspec": {
      "name": "python3",
      "display_name": "Python 3"
    }
  },
  "cells": [
    {
      "cell_type": "markdown",
      "metadata": {
        "id": "18J6r7CRfuWH",
        "colab_type": "text"
      },
      "source": [
        "# GUIÓN DE PRÁCTICAS DE REDES NEURONALES ARTIFICIALES\n",
        " **Parte I, Nicolás Delgado Guerrero**"
      ]
    },
    {
      "cell_type": "markdown",
      "metadata": {
        "id": "akXSeJK9f-fs",
        "colab_type": "text"
      },
      "source": [
        "## Introducción.\n",
        "Una de las bibliotecas de Python más potentes y fáciles de usar para desarrollar y evaluar modelos de aprendizaje profundo es Keras; En ella se encuentran las bibliotecas de computación numérica Theano y TensorFlow. La ventaja de esta es principalmente que podemos trabajar con redes neuronales artificiales de una manera fácil.\n",
        "\n",
        "Para esta práctica usaremos el entorno de trabajo Google Colab, en él trabajaremos conectados en la nube, las ventajas como ventajas tenemos la posibilidad de usar hasta 25GB de memoria RAM en la versión gratuita y disponibilidad de computo en GPU. Datos muchos más ventajosos que trabajar directamente con mi ordenador personal. Además en el notebook de google colab tenemos ya intalado tensorflow."
      ]
    },
    {
      "cell_type": "markdown",
      "metadata": {
        "id": "9NkhqqfvhFRt",
        "colab_type": "text"
      },
      "source": [
        "## Clasificación de vinos.\n",
        "Para esta práctica, se utilizará el conjunto de datos de calidad del vino que puede encontrar en el conjunto de datos de calidad del vino en UCI. Idealmente, realiza un aprendizaje profundo en conjuntos de datos más grandes, pero para el propósito de esta práctica, se utilizará uno más\n",
        "pequeño. Esto se debe principalmente a que el objetivo es comenzar con la biblioteca y familiarizarse con el funcionamiento de las redes neuronales."
      ]
    },
    {
      "cell_type": "markdown",
      "metadata": {
        "id": "hMG-ovghhy8v",
        "colab_type": "text"
      },
      "source": [
        "## Cargando en los datos.\n",
        "Esto se puede hacer fácilmente con la biblioteca de manipulación de datos de Python Pandas. Para ello se importa el paquete bajo su alias, pd.\n",
        "A continuación, utiliza la read_csv() función para leer en los archivos CSV en los que se almacenan los datos. Además, se usa el argumento sep para especificar que el separador, en este caso, es un punto y coma y no una coma regular.\n",
        "\n",
        "Cargaremos los datos directamente de nuestra cuenta de google drive, para ello usaremos el siguiente código."
      ]
    },
    {
      "cell_type": "code",
      "metadata": {
        "id": "prwT1Vcod_ij",
        "colab_type": "code",
        "outputId": "33de1c57-1987-4d4f-cbbd-39ac6ab2f7f1",
        "colab": {
          "base_uri": "https://localhost:8080/",
          "height": 124
        }
      },
      "source": [
        "from google.colab import drive\n",
        "drive.mount('/content/drive')\n",
        "DATA_DIR = '/content/drive/My Drive/'"
      ],
      "execution_count": 1,
      "outputs": [
        {
          "output_type": "stream",
          "text": [
            "Go to this URL in a browser: https://accounts.google.com/o/oauth2/auth?client_id=947318989803-6bn6qk8qdgf4n4g3pfee6491hc0brc4i.apps.googleusercontent.com&redirect_uri=urn%3aietf%3awg%3aoauth%3a2.0%3aoob&response_type=code&scope=email%20https%3a%2f%2fwww.googleapis.com%2fauth%2fdocs.test%20https%3a%2f%2fwww.googleapis.com%2fauth%2fdrive%20https%3a%2f%2fwww.googleapis.com%2fauth%2fdrive.photos.readonly%20https%3a%2f%2fwww.googleapis.com%2fauth%2fpeopleapi.readonly\n",
            "\n",
            "Enter your authorization code:\n",
            "··········\n",
            "Mounted at /content/drive\n"
          ],
          "name": "stdout"
        }
      ]
    },
    {
      "cell_type": "markdown",
      "metadata": {
        "id": "1GekU4v7kB9T",
        "colab_type": "text"
      },
      "source": [
        "Con ello ya tenemos en nuestro directorio de Colab nuestra cuenta de Drive con todos los archivos que tengamos en la nube. "
      ]
    },
    {
      "cell_type": "code",
      "metadata": {
        "id": "8yCslDtXkJuF",
        "colab_type": "code",
        "colab": {}
      },
      "source": [
        "# Cargamos la biblioteca panda\n",
        "import pandas as pd\n",
        "\n",
        "# Leemos datos de vino blano\n",
        "white = pd.read_csv(DATA_DIR + 'winequality-white.csv', sep = ';')\n",
        "\n",
        "# Leemos datos de vino tinto\n",
        "red = pd.read_csv(DATA_DIR + 'winequality-red.csv', sep = ';')"
      ],
      "execution_count": 0,
      "outputs": []
    },
    {
      "cell_type": "markdown",
      "metadata": {
        "id": "4u2FaA_LnFX8",
        "colab_type": "text"
      },
      "source": [
        "## Exploración de Datos.\n",
        "Ahora haremos una inspección rápida de los datos para determinar si se cargarón correctamente."
      ]
    },
    {
      "cell_type": "code",
      "metadata": {
        "id": "_Ce5V2GfnEtR",
        "colab_type": "code",
        "outputId": "b98c4b68-8a73-46b8-adf9-1005762ed60a",
        "colab": {
          "base_uri": "https://localhost:8080/",
          "height": 711
        }
      },
      "source": [
        "print(white.info())\n",
        "print(red.info())"
      ],
      "execution_count": 3,
      "outputs": [
        {
          "output_type": "stream",
          "text": [
            "<class 'pandas.core.frame.DataFrame'>\n",
            "RangeIndex: 4898 entries, 0 to 4897\n",
            "Data columns (total 12 columns):\n",
            " #   Column                Non-Null Count  Dtype  \n",
            "---  ------                --------------  -----  \n",
            " 0   fixed acidity         4898 non-null   float64\n",
            " 1   volatile acidity      4898 non-null   float64\n",
            " 2   citric acid           4898 non-null   float64\n",
            " 3   residual sugar        4898 non-null   float64\n",
            " 4   chlorides             4898 non-null   float64\n",
            " 5   free sulfur dioxide   4898 non-null   float64\n",
            " 6   total sulfur dioxide  4898 non-null   float64\n",
            " 7   density               4898 non-null   float64\n",
            " 8   pH                    4898 non-null   float64\n",
            " 9   sulphates             4898 non-null   float64\n",
            " 10  alcohol               4898 non-null   float64\n",
            " 11  quality               4898 non-null   int64  \n",
            "dtypes: float64(11), int64(1)\n",
            "memory usage: 459.3 KB\n",
            "None\n",
            "<class 'pandas.core.frame.DataFrame'>\n",
            "RangeIndex: 1599 entries, 0 to 1598\n",
            "Data columns (total 12 columns):\n",
            " #   Column                Non-Null Count  Dtype  \n",
            "---  ------                --------------  -----  \n",
            " 0   fixed acidity         1599 non-null   float64\n",
            " 1   volatile acidity      1599 non-null   float64\n",
            " 2   citric acid           1599 non-null   float64\n",
            " 3   residual sugar        1599 non-null   float64\n",
            " 4   chlorides             1599 non-null   float64\n",
            " 5   free sulfur dioxide   1599 non-null   float64\n",
            " 6   total sulfur dioxide  1599 non-null   float64\n",
            " 7   density               1599 non-null   float64\n",
            " 8   pH                    1599 non-null   float64\n",
            " 9   sulphates             1599 non-null   float64\n",
            " 10  alcohol               1599 non-null   float64\n",
            " 11  quality               1599 non-null   int64  \n",
            "dtypes: float64(11), int64(1)\n",
            "memory usage: 150.0 KB\n",
            "None\n"
          ],
          "name": "stdout"
        }
      ]
    },
    {
      "cell_type": "markdown",
      "metadata": {
        "id": "sK8XQvc8n2-S",
        "colab_type": "text"
      },
      "source": [
        "Con el método info() podemos determinar la estructura de nuestro dataset, el número de filas, columnas, nombre de las variables, etc. Se puede verificar la presencia de valores nulos con la ayuda de isnull(). \n"
      ]
    },
    {
      "cell_type": "code",
      "metadata": {
        "id": "eY8enYGdn2l1",
        "colab_type": "code",
        "outputId": "d779b3a8-5ffe-4b77-bcc5-aae415737ead",
        "colab": {
          "base_uri": "https://localhost:8080/",
          "height": 433
        }
      },
      "source": [
        "pd.isnull(white)"
      ],
      "execution_count": 4,
      "outputs": [
        {
          "output_type": "execute_result",
          "data": {
            "text/html": [
              "<div>\n",
              "<style scoped>\n",
              "    .dataframe tbody tr th:only-of-type {\n",
              "        vertical-align: middle;\n",
              "    }\n",
              "\n",
              "    .dataframe tbody tr th {\n",
              "        vertical-align: top;\n",
              "    }\n",
              "\n",
              "    .dataframe thead th {\n",
              "        text-align: right;\n",
              "    }\n",
              "</style>\n",
              "<table border=\"1\" class=\"dataframe\">\n",
              "  <thead>\n",
              "    <tr style=\"text-align: right;\">\n",
              "      <th></th>\n",
              "      <th>fixed acidity</th>\n",
              "      <th>volatile acidity</th>\n",
              "      <th>citric acid</th>\n",
              "      <th>residual sugar</th>\n",
              "      <th>chlorides</th>\n",
              "      <th>free sulfur dioxide</th>\n",
              "      <th>total sulfur dioxide</th>\n",
              "      <th>density</th>\n",
              "      <th>pH</th>\n",
              "      <th>sulphates</th>\n",
              "      <th>alcohol</th>\n",
              "      <th>quality</th>\n",
              "    </tr>\n",
              "  </thead>\n",
              "  <tbody>\n",
              "    <tr>\n",
              "      <th>0</th>\n",
              "      <td>False</td>\n",
              "      <td>False</td>\n",
              "      <td>False</td>\n",
              "      <td>False</td>\n",
              "      <td>False</td>\n",
              "      <td>False</td>\n",
              "      <td>False</td>\n",
              "      <td>False</td>\n",
              "      <td>False</td>\n",
              "      <td>False</td>\n",
              "      <td>False</td>\n",
              "      <td>False</td>\n",
              "    </tr>\n",
              "    <tr>\n",
              "      <th>1</th>\n",
              "      <td>False</td>\n",
              "      <td>False</td>\n",
              "      <td>False</td>\n",
              "      <td>False</td>\n",
              "      <td>False</td>\n",
              "      <td>False</td>\n",
              "      <td>False</td>\n",
              "      <td>False</td>\n",
              "      <td>False</td>\n",
              "      <td>False</td>\n",
              "      <td>False</td>\n",
              "      <td>False</td>\n",
              "    </tr>\n",
              "    <tr>\n",
              "      <th>2</th>\n",
              "      <td>False</td>\n",
              "      <td>False</td>\n",
              "      <td>False</td>\n",
              "      <td>False</td>\n",
              "      <td>False</td>\n",
              "      <td>False</td>\n",
              "      <td>False</td>\n",
              "      <td>False</td>\n",
              "      <td>False</td>\n",
              "      <td>False</td>\n",
              "      <td>False</td>\n",
              "      <td>False</td>\n",
              "    </tr>\n",
              "    <tr>\n",
              "      <th>3</th>\n",
              "      <td>False</td>\n",
              "      <td>False</td>\n",
              "      <td>False</td>\n",
              "      <td>False</td>\n",
              "      <td>False</td>\n",
              "      <td>False</td>\n",
              "      <td>False</td>\n",
              "      <td>False</td>\n",
              "      <td>False</td>\n",
              "      <td>False</td>\n",
              "      <td>False</td>\n",
              "      <td>False</td>\n",
              "    </tr>\n",
              "    <tr>\n",
              "      <th>4</th>\n",
              "      <td>False</td>\n",
              "      <td>False</td>\n",
              "      <td>False</td>\n",
              "      <td>False</td>\n",
              "      <td>False</td>\n",
              "      <td>False</td>\n",
              "      <td>False</td>\n",
              "      <td>False</td>\n",
              "      <td>False</td>\n",
              "      <td>False</td>\n",
              "      <td>False</td>\n",
              "      <td>False</td>\n",
              "    </tr>\n",
              "    <tr>\n",
              "      <th>...</th>\n",
              "      <td>...</td>\n",
              "      <td>...</td>\n",
              "      <td>...</td>\n",
              "      <td>...</td>\n",
              "      <td>...</td>\n",
              "      <td>...</td>\n",
              "      <td>...</td>\n",
              "      <td>...</td>\n",
              "      <td>...</td>\n",
              "      <td>...</td>\n",
              "      <td>...</td>\n",
              "      <td>...</td>\n",
              "    </tr>\n",
              "    <tr>\n",
              "      <th>4893</th>\n",
              "      <td>False</td>\n",
              "      <td>False</td>\n",
              "      <td>False</td>\n",
              "      <td>False</td>\n",
              "      <td>False</td>\n",
              "      <td>False</td>\n",
              "      <td>False</td>\n",
              "      <td>False</td>\n",
              "      <td>False</td>\n",
              "      <td>False</td>\n",
              "      <td>False</td>\n",
              "      <td>False</td>\n",
              "    </tr>\n",
              "    <tr>\n",
              "      <th>4894</th>\n",
              "      <td>False</td>\n",
              "      <td>False</td>\n",
              "      <td>False</td>\n",
              "      <td>False</td>\n",
              "      <td>False</td>\n",
              "      <td>False</td>\n",
              "      <td>False</td>\n",
              "      <td>False</td>\n",
              "      <td>False</td>\n",
              "      <td>False</td>\n",
              "      <td>False</td>\n",
              "      <td>False</td>\n",
              "    </tr>\n",
              "    <tr>\n",
              "      <th>4895</th>\n",
              "      <td>False</td>\n",
              "      <td>False</td>\n",
              "      <td>False</td>\n",
              "      <td>False</td>\n",
              "      <td>False</td>\n",
              "      <td>False</td>\n",
              "      <td>False</td>\n",
              "      <td>False</td>\n",
              "      <td>False</td>\n",
              "      <td>False</td>\n",
              "      <td>False</td>\n",
              "      <td>False</td>\n",
              "    </tr>\n",
              "    <tr>\n",
              "      <th>4896</th>\n",
              "      <td>False</td>\n",
              "      <td>False</td>\n",
              "      <td>False</td>\n",
              "      <td>False</td>\n",
              "      <td>False</td>\n",
              "      <td>False</td>\n",
              "      <td>False</td>\n",
              "      <td>False</td>\n",
              "      <td>False</td>\n",
              "      <td>False</td>\n",
              "      <td>False</td>\n",
              "      <td>False</td>\n",
              "    </tr>\n",
              "    <tr>\n",
              "      <th>4897</th>\n",
              "      <td>False</td>\n",
              "      <td>False</td>\n",
              "      <td>False</td>\n",
              "      <td>False</td>\n",
              "      <td>False</td>\n",
              "      <td>False</td>\n",
              "      <td>False</td>\n",
              "      <td>False</td>\n",
              "      <td>False</td>\n",
              "      <td>False</td>\n",
              "      <td>False</td>\n",
              "      <td>False</td>\n",
              "    </tr>\n",
              "  </tbody>\n",
              "</table>\n",
              "<p>4898 rows × 12 columns</p>\n",
              "</div>"
            ],
            "text/plain": [
              "      fixed acidity  volatile acidity  citric acid  ...  sulphates  alcohol  quality\n",
              "0             False             False        False  ...      False    False    False\n",
              "1             False             False        False  ...      False    False    False\n",
              "2             False             False        False  ...      False    False    False\n",
              "3             False             False        False  ...      False    False    False\n",
              "4             False             False        False  ...      False    False    False\n",
              "...             ...               ...          ...  ...        ...      ...      ...\n",
              "4893          False             False        False  ...      False    False    False\n",
              "4894          False             False        False  ...      False    False    False\n",
              "4895          False             False        False  ...      False    False    False\n",
              "4896          False             False        False  ...      False    False    False\n",
              "4897          False             False        False  ...      False    False    False\n",
              "\n",
              "[4898 rows x 12 columns]"
            ]
          },
          "metadata": {
            "tags": []
          },
          "execution_count": 4
        }
      ]
    },
    {
      "cell_type": "code",
      "metadata": {
        "id": "0rC8aXqRq7PS",
        "colab_type": "code",
        "outputId": "59eac0ae-efa2-430e-fccb-94b2a8992e35",
        "colab": {
          "base_uri": "https://localhost:8080/",
          "height": 433
        }
      },
      "source": [
        "pd.isnull(red)"
      ],
      "execution_count": 5,
      "outputs": [
        {
          "output_type": "execute_result",
          "data": {
            "text/html": [
              "<div>\n",
              "<style scoped>\n",
              "    .dataframe tbody tr th:only-of-type {\n",
              "        vertical-align: middle;\n",
              "    }\n",
              "\n",
              "    .dataframe tbody tr th {\n",
              "        vertical-align: top;\n",
              "    }\n",
              "\n",
              "    .dataframe thead th {\n",
              "        text-align: right;\n",
              "    }\n",
              "</style>\n",
              "<table border=\"1\" class=\"dataframe\">\n",
              "  <thead>\n",
              "    <tr style=\"text-align: right;\">\n",
              "      <th></th>\n",
              "      <th>fixed acidity</th>\n",
              "      <th>volatile acidity</th>\n",
              "      <th>citric acid</th>\n",
              "      <th>residual sugar</th>\n",
              "      <th>chlorides</th>\n",
              "      <th>free sulfur dioxide</th>\n",
              "      <th>total sulfur dioxide</th>\n",
              "      <th>density</th>\n",
              "      <th>pH</th>\n",
              "      <th>sulphates</th>\n",
              "      <th>alcohol</th>\n",
              "      <th>quality</th>\n",
              "    </tr>\n",
              "  </thead>\n",
              "  <tbody>\n",
              "    <tr>\n",
              "      <th>0</th>\n",
              "      <td>False</td>\n",
              "      <td>False</td>\n",
              "      <td>False</td>\n",
              "      <td>False</td>\n",
              "      <td>False</td>\n",
              "      <td>False</td>\n",
              "      <td>False</td>\n",
              "      <td>False</td>\n",
              "      <td>False</td>\n",
              "      <td>False</td>\n",
              "      <td>False</td>\n",
              "      <td>False</td>\n",
              "    </tr>\n",
              "    <tr>\n",
              "      <th>1</th>\n",
              "      <td>False</td>\n",
              "      <td>False</td>\n",
              "      <td>False</td>\n",
              "      <td>False</td>\n",
              "      <td>False</td>\n",
              "      <td>False</td>\n",
              "      <td>False</td>\n",
              "      <td>False</td>\n",
              "      <td>False</td>\n",
              "      <td>False</td>\n",
              "      <td>False</td>\n",
              "      <td>False</td>\n",
              "    </tr>\n",
              "    <tr>\n",
              "      <th>2</th>\n",
              "      <td>False</td>\n",
              "      <td>False</td>\n",
              "      <td>False</td>\n",
              "      <td>False</td>\n",
              "      <td>False</td>\n",
              "      <td>False</td>\n",
              "      <td>False</td>\n",
              "      <td>False</td>\n",
              "      <td>False</td>\n",
              "      <td>False</td>\n",
              "      <td>False</td>\n",
              "      <td>False</td>\n",
              "    </tr>\n",
              "    <tr>\n",
              "      <th>3</th>\n",
              "      <td>False</td>\n",
              "      <td>False</td>\n",
              "      <td>False</td>\n",
              "      <td>False</td>\n",
              "      <td>False</td>\n",
              "      <td>False</td>\n",
              "      <td>False</td>\n",
              "      <td>False</td>\n",
              "      <td>False</td>\n",
              "      <td>False</td>\n",
              "      <td>False</td>\n",
              "      <td>False</td>\n",
              "    </tr>\n",
              "    <tr>\n",
              "      <th>4</th>\n",
              "      <td>False</td>\n",
              "      <td>False</td>\n",
              "      <td>False</td>\n",
              "      <td>False</td>\n",
              "      <td>False</td>\n",
              "      <td>False</td>\n",
              "      <td>False</td>\n",
              "      <td>False</td>\n",
              "      <td>False</td>\n",
              "      <td>False</td>\n",
              "      <td>False</td>\n",
              "      <td>False</td>\n",
              "    </tr>\n",
              "    <tr>\n",
              "      <th>...</th>\n",
              "      <td>...</td>\n",
              "      <td>...</td>\n",
              "      <td>...</td>\n",
              "      <td>...</td>\n",
              "      <td>...</td>\n",
              "      <td>...</td>\n",
              "      <td>...</td>\n",
              "      <td>...</td>\n",
              "      <td>...</td>\n",
              "      <td>...</td>\n",
              "      <td>...</td>\n",
              "      <td>...</td>\n",
              "    </tr>\n",
              "    <tr>\n",
              "      <th>1594</th>\n",
              "      <td>False</td>\n",
              "      <td>False</td>\n",
              "      <td>False</td>\n",
              "      <td>False</td>\n",
              "      <td>False</td>\n",
              "      <td>False</td>\n",
              "      <td>False</td>\n",
              "      <td>False</td>\n",
              "      <td>False</td>\n",
              "      <td>False</td>\n",
              "      <td>False</td>\n",
              "      <td>False</td>\n",
              "    </tr>\n",
              "    <tr>\n",
              "      <th>1595</th>\n",
              "      <td>False</td>\n",
              "      <td>False</td>\n",
              "      <td>False</td>\n",
              "      <td>False</td>\n",
              "      <td>False</td>\n",
              "      <td>False</td>\n",
              "      <td>False</td>\n",
              "      <td>False</td>\n",
              "      <td>False</td>\n",
              "      <td>False</td>\n",
              "      <td>False</td>\n",
              "      <td>False</td>\n",
              "    </tr>\n",
              "    <tr>\n",
              "      <th>1596</th>\n",
              "      <td>False</td>\n",
              "      <td>False</td>\n",
              "      <td>False</td>\n",
              "      <td>False</td>\n",
              "      <td>False</td>\n",
              "      <td>False</td>\n",
              "      <td>False</td>\n",
              "      <td>False</td>\n",
              "      <td>False</td>\n",
              "      <td>False</td>\n",
              "      <td>False</td>\n",
              "      <td>False</td>\n",
              "    </tr>\n",
              "    <tr>\n",
              "      <th>1597</th>\n",
              "      <td>False</td>\n",
              "      <td>False</td>\n",
              "      <td>False</td>\n",
              "      <td>False</td>\n",
              "      <td>False</td>\n",
              "      <td>False</td>\n",
              "      <td>False</td>\n",
              "      <td>False</td>\n",
              "      <td>False</td>\n",
              "      <td>False</td>\n",
              "      <td>False</td>\n",
              "      <td>False</td>\n",
              "    </tr>\n",
              "    <tr>\n",
              "      <th>1598</th>\n",
              "      <td>False</td>\n",
              "      <td>False</td>\n",
              "      <td>False</td>\n",
              "      <td>False</td>\n",
              "      <td>False</td>\n",
              "      <td>False</td>\n",
              "      <td>False</td>\n",
              "      <td>False</td>\n",
              "      <td>False</td>\n",
              "      <td>False</td>\n",
              "      <td>False</td>\n",
              "      <td>False</td>\n",
              "    </tr>\n",
              "  </tbody>\n",
              "</table>\n",
              "<p>1599 rows × 12 columns</p>\n",
              "</div>"
            ],
            "text/plain": [
              "      fixed acidity  volatile acidity  citric acid  ...  sulphates  alcohol  quality\n",
              "0             False             False        False  ...      False    False    False\n",
              "1             False             False        False  ...      False    False    False\n",
              "2             False             False        False  ...      False    False    False\n",
              "3             False             False        False  ...      False    False    False\n",
              "4             False             False        False  ...      False    False    False\n",
              "...             ...               ...          ...  ...        ...      ...      ...\n",
              "1594          False             False        False  ...      False    False    False\n",
              "1595          False             False        False  ...      False    False    False\n",
              "1596          False             False        False  ...      False    False    False\n",
              "1597          False             False        False  ...      False    False    False\n",
              "1598          False             False        False  ...      False    False    False\n",
              "\n",
              "[1599 rows x 12 columns]"
            ]
          },
          "metadata": {
            "tags": []
          },
          "execution_count": 5
        }
      ]
    },
    {
      "cell_type": "markdown",
      "metadata": {
        "id": "wBsZXUThoZBf",
        "colab_type": "text"
      },
      "source": [
        "Algunas funciones de pandas como: head(), tail() y sample() son fantásticas porque brindan una forma rápida de inspeccionar los datos."
      ]
    },
    {
      "cell_type": "code",
      "metadata": {
        "id": "OW44mNDJrDlk",
        "colab_type": "code",
        "outputId": "f61e32f3-44a3-4321-f960-bb96e7176947",
        "colab": {
          "base_uri": "https://localhost:8080/",
          "height": 433
        }
      },
      "source": [
        "print(red.head()) #5 primeras instancias de red\n",
        "print(white.tail()) #5 últimas instancias de white\n",
        "print(red.sample(5)) #5 instancias aleatorias "
      ],
      "execution_count": 6,
      "outputs": [
        {
          "output_type": "stream",
          "text": [
            "   fixed acidity  volatile acidity  citric acid  ...  sulphates  alcohol  quality\n",
            "0            7.4              0.70         0.00  ...       0.56      9.4        5\n",
            "1            7.8              0.88         0.00  ...       0.68      9.8        5\n",
            "2            7.8              0.76         0.04  ...       0.65      9.8        5\n",
            "3           11.2              0.28         0.56  ...       0.58      9.8        6\n",
            "4            7.4              0.70         0.00  ...       0.56      9.4        5\n",
            "\n",
            "[5 rows x 12 columns]\n",
            "      fixed acidity  volatile acidity  citric acid  ...  sulphates  alcohol  quality\n",
            "4893            6.2              0.21         0.29  ...       0.50     11.2        6\n",
            "4894            6.6              0.32         0.36  ...       0.46      9.6        5\n",
            "4895            6.5              0.24         0.19  ...       0.46      9.4        6\n",
            "4896            5.5              0.29         0.30  ...       0.38     12.8        7\n",
            "4897            6.0              0.21         0.38  ...       0.32     11.8        6\n",
            "\n",
            "[5 rows x 12 columns]\n",
            "      fixed acidity  volatile acidity  citric acid  ...  sulphates  alcohol  quality\n",
            "1317            9.9             0.440         0.46  ...       0.69     11.9        6\n",
            "385             7.4             0.630         0.07  ...       0.76      9.7        6\n",
            "365            10.0             0.420         0.50  ...       0.93     11.8        6\n",
            "1052            5.6             0.605         0.05  ...       0.55     12.9        5\n",
            "312             9.0             0.460         0.31  ...       0.63      9.5        6\n",
            "\n",
            "[5 rows x 12 columns]\n"
          ],
          "name": "stdout"
        }
      ]
    },
    {
      "cell_type": "markdown",
      "metadata": {
        "id": "PRFwAwNFrjaM",
        "colab_type": "text"
      },
      "source": [
        "Ahora medaiante la función describe observamos los estadísticos básicos para hacer un primer análisis de los datos."
      ]
    },
    {
      "cell_type": "code",
      "metadata": {
        "id": "F6R9_DSrrl4e",
        "colab_type": "code",
        "outputId": "5b3cfba2-78e5-4e3a-df36-948f22450452",
        "colab": {
          "base_uri": "https://localhost:8080/",
          "height": 349
        }
      },
      "source": [
        "white.describe()"
      ],
      "execution_count": 7,
      "outputs": [
        {
          "output_type": "execute_result",
          "data": {
            "text/html": [
              "<div>\n",
              "<style scoped>\n",
              "    .dataframe tbody tr th:only-of-type {\n",
              "        vertical-align: middle;\n",
              "    }\n",
              "\n",
              "    .dataframe tbody tr th {\n",
              "        vertical-align: top;\n",
              "    }\n",
              "\n",
              "    .dataframe thead th {\n",
              "        text-align: right;\n",
              "    }\n",
              "</style>\n",
              "<table border=\"1\" class=\"dataframe\">\n",
              "  <thead>\n",
              "    <tr style=\"text-align: right;\">\n",
              "      <th></th>\n",
              "      <th>fixed acidity</th>\n",
              "      <th>volatile acidity</th>\n",
              "      <th>citric acid</th>\n",
              "      <th>residual sugar</th>\n",
              "      <th>chlorides</th>\n",
              "      <th>free sulfur dioxide</th>\n",
              "      <th>total sulfur dioxide</th>\n",
              "      <th>density</th>\n",
              "      <th>pH</th>\n",
              "      <th>sulphates</th>\n",
              "      <th>alcohol</th>\n",
              "      <th>quality</th>\n",
              "    </tr>\n",
              "  </thead>\n",
              "  <tbody>\n",
              "    <tr>\n",
              "      <th>count</th>\n",
              "      <td>4898.000000</td>\n",
              "      <td>4898.000000</td>\n",
              "      <td>4898.000000</td>\n",
              "      <td>4898.000000</td>\n",
              "      <td>4898.000000</td>\n",
              "      <td>4898.000000</td>\n",
              "      <td>4898.000000</td>\n",
              "      <td>4898.000000</td>\n",
              "      <td>4898.000000</td>\n",
              "      <td>4898.000000</td>\n",
              "      <td>4898.000000</td>\n",
              "      <td>4898.000000</td>\n",
              "    </tr>\n",
              "    <tr>\n",
              "      <th>mean</th>\n",
              "      <td>6.854788</td>\n",
              "      <td>0.278241</td>\n",
              "      <td>0.334192</td>\n",
              "      <td>6.391415</td>\n",
              "      <td>0.045772</td>\n",
              "      <td>35.308085</td>\n",
              "      <td>138.360657</td>\n",
              "      <td>0.994027</td>\n",
              "      <td>3.188267</td>\n",
              "      <td>0.489847</td>\n",
              "      <td>10.514267</td>\n",
              "      <td>5.877909</td>\n",
              "    </tr>\n",
              "    <tr>\n",
              "      <th>std</th>\n",
              "      <td>0.843868</td>\n",
              "      <td>0.100795</td>\n",
              "      <td>0.121020</td>\n",
              "      <td>5.072058</td>\n",
              "      <td>0.021848</td>\n",
              "      <td>17.007137</td>\n",
              "      <td>42.498065</td>\n",
              "      <td>0.002991</td>\n",
              "      <td>0.151001</td>\n",
              "      <td>0.114126</td>\n",
              "      <td>1.230621</td>\n",
              "      <td>0.885639</td>\n",
              "    </tr>\n",
              "    <tr>\n",
              "      <th>min</th>\n",
              "      <td>3.800000</td>\n",
              "      <td>0.080000</td>\n",
              "      <td>0.000000</td>\n",
              "      <td>0.600000</td>\n",
              "      <td>0.009000</td>\n",
              "      <td>2.000000</td>\n",
              "      <td>9.000000</td>\n",
              "      <td>0.987110</td>\n",
              "      <td>2.720000</td>\n",
              "      <td>0.220000</td>\n",
              "      <td>8.000000</td>\n",
              "      <td>3.000000</td>\n",
              "    </tr>\n",
              "    <tr>\n",
              "      <th>25%</th>\n",
              "      <td>6.300000</td>\n",
              "      <td>0.210000</td>\n",
              "      <td>0.270000</td>\n",
              "      <td>1.700000</td>\n",
              "      <td>0.036000</td>\n",
              "      <td>23.000000</td>\n",
              "      <td>108.000000</td>\n",
              "      <td>0.991723</td>\n",
              "      <td>3.090000</td>\n",
              "      <td>0.410000</td>\n",
              "      <td>9.500000</td>\n",
              "      <td>5.000000</td>\n",
              "    </tr>\n",
              "    <tr>\n",
              "      <th>50%</th>\n",
              "      <td>6.800000</td>\n",
              "      <td>0.260000</td>\n",
              "      <td>0.320000</td>\n",
              "      <td>5.200000</td>\n",
              "      <td>0.043000</td>\n",
              "      <td>34.000000</td>\n",
              "      <td>134.000000</td>\n",
              "      <td>0.993740</td>\n",
              "      <td>3.180000</td>\n",
              "      <td>0.470000</td>\n",
              "      <td>10.400000</td>\n",
              "      <td>6.000000</td>\n",
              "    </tr>\n",
              "    <tr>\n",
              "      <th>75%</th>\n",
              "      <td>7.300000</td>\n",
              "      <td>0.320000</td>\n",
              "      <td>0.390000</td>\n",
              "      <td>9.900000</td>\n",
              "      <td>0.050000</td>\n",
              "      <td>46.000000</td>\n",
              "      <td>167.000000</td>\n",
              "      <td>0.996100</td>\n",
              "      <td>3.280000</td>\n",
              "      <td>0.550000</td>\n",
              "      <td>11.400000</td>\n",
              "      <td>6.000000</td>\n",
              "    </tr>\n",
              "    <tr>\n",
              "      <th>max</th>\n",
              "      <td>14.200000</td>\n",
              "      <td>1.100000</td>\n",
              "      <td>1.660000</td>\n",
              "      <td>65.800000</td>\n",
              "      <td>0.346000</td>\n",
              "      <td>289.000000</td>\n",
              "      <td>440.000000</td>\n",
              "      <td>1.038980</td>\n",
              "      <td>3.820000</td>\n",
              "      <td>1.080000</td>\n",
              "      <td>14.200000</td>\n",
              "      <td>9.000000</td>\n",
              "    </tr>\n",
              "  </tbody>\n",
              "</table>\n",
              "</div>"
            ],
            "text/plain": [
              "       fixed acidity  volatile acidity  ...      alcohol      quality\n",
              "count    4898.000000       4898.000000  ...  4898.000000  4898.000000\n",
              "mean        6.854788          0.278241  ...    10.514267     5.877909\n",
              "std         0.843868          0.100795  ...     1.230621     0.885639\n",
              "min         3.800000          0.080000  ...     8.000000     3.000000\n",
              "25%         6.300000          0.210000  ...     9.500000     5.000000\n",
              "50%         6.800000          0.260000  ...    10.400000     6.000000\n",
              "75%         7.300000          0.320000  ...    11.400000     6.000000\n",
              "max        14.200000          1.100000  ...    14.200000     9.000000\n",
              "\n",
              "[8 rows x 12 columns]"
            ]
          },
          "metadata": {
            "tags": []
          },
          "execution_count": 7
        }
      ]
    },
    {
      "cell_type": "code",
      "metadata": {
        "id": "_58q1_BusIe6",
        "colab_type": "code",
        "outputId": "04d68f18-1abb-4b70-b4d9-30e5823933f7",
        "colab": {
          "base_uri": "https://localhost:8080/",
          "height": 349
        }
      },
      "source": [
        "red.describe()"
      ],
      "execution_count": 8,
      "outputs": [
        {
          "output_type": "execute_result",
          "data": {
            "text/html": [
              "<div>\n",
              "<style scoped>\n",
              "    .dataframe tbody tr th:only-of-type {\n",
              "        vertical-align: middle;\n",
              "    }\n",
              "\n",
              "    .dataframe tbody tr th {\n",
              "        vertical-align: top;\n",
              "    }\n",
              "\n",
              "    .dataframe thead th {\n",
              "        text-align: right;\n",
              "    }\n",
              "</style>\n",
              "<table border=\"1\" class=\"dataframe\">\n",
              "  <thead>\n",
              "    <tr style=\"text-align: right;\">\n",
              "      <th></th>\n",
              "      <th>fixed acidity</th>\n",
              "      <th>volatile acidity</th>\n",
              "      <th>citric acid</th>\n",
              "      <th>residual sugar</th>\n",
              "      <th>chlorides</th>\n",
              "      <th>free sulfur dioxide</th>\n",
              "      <th>total sulfur dioxide</th>\n",
              "      <th>density</th>\n",
              "      <th>pH</th>\n",
              "      <th>sulphates</th>\n",
              "      <th>alcohol</th>\n",
              "      <th>quality</th>\n",
              "    </tr>\n",
              "  </thead>\n",
              "  <tbody>\n",
              "    <tr>\n",
              "      <th>count</th>\n",
              "      <td>1599.000000</td>\n",
              "      <td>1599.000000</td>\n",
              "      <td>1599.000000</td>\n",
              "      <td>1599.000000</td>\n",
              "      <td>1599.000000</td>\n",
              "      <td>1599.000000</td>\n",
              "      <td>1599.000000</td>\n",
              "      <td>1599.000000</td>\n",
              "      <td>1599.000000</td>\n",
              "      <td>1599.000000</td>\n",
              "      <td>1599.000000</td>\n",
              "      <td>1599.000000</td>\n",
              "    </tr>\n",
              "    <tr>\n",
              "      <th>mean</th>\n",
              "      <td>8.319637</td>\n",
              "      <td>0.527821</td>\n",
              "      <td>0.270976</td>\n",
              "      <td>2.538806</td>\n",
              "      <td>0.087467</td>\n",
              "      <td>15.874922</td>\n",
              "      <td>46.467792</td>\n",
              "      <td>0.996747</td>\n",
              "      <td>3.311113</td>\n",
              "      <td>0.658149</td>\n",
              "      <td>10.422983</td>\n",
              "      <td>5.636023</td>\n",
              "    </tr>\n",
              "    <tr>\n",
              "      <th>std</th>\n",
              "      <td>1.741096</td>\n",
              "      <td>0.179060</td>\n",
              "      <td>0.194801</td>\n",
              "      <td>1.409928</td>\n",
              "      <td>0.047065</td>\n",
              "      <td>10.460157</td>\n",
              "      <td>32.895324</td>\n",
              "      <td>0.001887</td>\n",
              "      <td>0.154386</td>\n",
              "      <td>0.169507</td>\n",
              "      <td>1.065668</td>\n",
              "      <td>0.807569</td>\n",
              "    </tr>\n",
              "    <tr>\n",
              "      <th>min</th>\n",
              "      <td>4.600000</td>\n",
              "      <td>0.120000</td>\n",
              "      <td>0.000000</td>\n",
              "      <td>0.900000</td>\n",
              "      <td>0.012000</td>\n",
              "      <td>1.000000</td>\n",
              "      <td>6.000000</td>\n",
              "      <td>0.990070</td>\n",
              "      <td>2.740000</td>\n",
              "      <td>0.330000</td>\n",
              "      <td>8.400000</td>\n",
              "      <td>3.000000</td>\n",
              "    </tr>\n",
              "    <tr>\n",
              "      <th>25%</th>\n",
              "      <td>7.100000</td>\n",
              "      <td>0.390000</td>\n",
              "      <td>0.090000</td>\n",
              "      <td>1.900000</td>\n",
              "      <td>0.070000</td>\n",
              "      <td>7.000000</td>\n",
              "      <td>22.000000</td>\n",
              "      <td>0.995600</td>\n",
              "      <td>3.210000</td>\n",
              "      <td>0.550000</td>\n",
              "      <td>9.500000</td>\n",
              "      <td>5.000000</td>\n",
              "    </tr>\n",
              "    <tr>\n",
              "      <th>50%</th>\n",
              "      <td>7.900000</td>\n",
              "      <td>0.520000</td>\n",
              "      <td>0.260000</td>\n",
              "      <td>2.200000</td>\n",
              "      <td>0.079000</td>\n",
              "      <td>14.000000</td>\n",
              "      <td>38.000000</td>\n",
              "      <td>0.996750</td>\n",
              "      <td>3.310000</td>\n",
              "      <td>0.620000</td>\n",
              "      <td>10.200000</td>\n",
              "      <td>6.000000</td>\n",
              "    </tr>\n",
              "    <tr>\n",
              "      <th>75%</th>\n",
              "      <td>9.200000</td>\n",
              "      <td>0.640000</td>\n",
              "      <td>0.420000</td>\n",
              "      <td>2.600000</td>\n",
              "      <td>0.090000</td>\n",
              "      <td>21.000000</td>\n",
              "      <td>62.000000</td>\n",
              "      <td>0.997835</td>\n",
              "      <td>3.400000</td>\n",
              "      <td>0.730000</td>\n",
              "      <td>11.100000</td>\n",
              "      <td>6.000000</td>\n",
              "    </tr>\n",
              "    <tr>\n",
              "      <th>max</th>\n",
              "      <td>15.900000</td>\n",
              "      <td>1.580000</td>\n",
              "      <td>1.000000</td>\n",
              "      <td>15.500000</td>\n",
              "      <td>0.611000</td>\n",
              "      <td>72.000000</td>\n",
              "      <td>289.000000</td>\n",
              "      <td>1.003690</td>\n",
              "      <td>4.010000</td>\n",
              "      <td>2.000000</td>\n",
              "      <td>14.900000</td>\n",
              "      <td>8.000000</td>\n",
              "    </tr>\n",
              "  </tbody>\n",
              "</table>\n",
              "</div>"
            ],
            "text/plain": [
              "       fixed acidity  volatile acidity  ...      alcohol      quality\n",
              "count    1599.000000       1599.000000  ...  1599.000000  1599.000000\n",
              "mean        8.319637          0.527821  ...    10.422983     5.636023\n",
              "std         1.741096          0.179060  ...     1.065668     0.807569\n",
              "min         4.600000          0.120000  ...     8.400000     3.000000\n",
              "25%         7.100000          0.390000  ...     9.500000     5.000000\n",
              "50%         7.900000          0.520000  ...    10.200000     6.000000\n",
              "75%         9.200000          0.640000  ...    11.100000     6.000000\n",
              "max        15.900000          1.580000  ...    14.900000     8.000000\n",
              "\n",
              "[8 rows x 12 columns]"
            ]
          },
          "metadata": {
            "tags": []
          },
          "execution_count": 8
        }
      ]
    },
    {
      "cell_type": "markdown",
      "metadata": {
        "id": "Z_gEEjPysN2-",
        "colab_type": "text"
      },
      "source": [
        "## Visualizando los datos.\n",
        "Para hacer más comprensibles los datos que hemos obtenido, desarrolaremos distintas gráficas para determinar el comportamiento de las variables de cada dataset."
      ]
    },
    {
      "cell_type": "markdown",
      "metadata": {
        "id": "EvF_b9JhxqlK",
        "colab_type": "text"
      },
      "source": [
        "### Alcohol.\n",
        "\n",
        "Una variable que puedes encontrar interesante a primera vista es alcohol. Probablemente sea una de las primeras variables que llame su atención cuando inspeccione el conjunto de datos de vinos. Puede visualizar las distribuciones con cualquier biblioteca de visualización de datos, pero en este caso, vamos a utilizar matplotlib para trazar las distribuciones rápidamente:"
      ]
    },
    {
      "cell_type": "code",
      "metadata": {
        "id": "XwDpRq4ZxylG",
        "colab_type": "code",
        "outputId": "b2ffd878-5552-4c96-eba0-04b5182a70f7",
        "colab": {
          "base_uri": "https://localhost:8080/",
          "height": 361
        }
      },
      "source": [
        "import matplotlib.pyplot as plt\n",
        "\n",
        "fig, ax = plt.subplots(1, 2)\n",
        "\n",
        "ax[0].hist(red.alcohol, 10, facecolor = 'red', alpha = 0.5, label = 'Red Wine')\n",
        "ax[1].hist(white.alcohol, 10, facecolor = 'white', ec = 'black', lw = 0.5, alpha = 0.5, label = 'Red Wine')\n",
        "\n",
        "fig.subplots_adjust(left = 0, right = 1, bottom = 0, top = 0.5, hspace = 0.5, wspace = 1)\n",
        "ax[0].set_ylim([0, 1000])\n",
        "ax[0].set_xlabel('Alcohol in % Vol')\n",
        "ax[0].set_ylabel('Frecuency')\n",
        "ax[1].set_xlabel('Alcohol in % Vol')\n",
        "ax[1].set_ylabel('Frecuency')\n",
        "\n",
        "fig.suptitle('Distribución of Alcohol in % Vol')\n"
      ],
      "execution_count": 9,
      "outputs": [
        {
          "output_type": "execute_result",
          "data": {
            "text/plain": [
              "Text(0.5, 0.98, 'Distribución of Alcohol in % Vol')"
            ]
          },
          "metadata": {
            "tags": []
          },
          "execution_count": 9
        },
        {
          "output_type": "display_data",
          "data": {
            "image/png": "[encoded data removed]",
            "text/plain": [
              "<Figure size 432x288 with 2 Axes>"
            ]
          },
          "metadata": {
            "tags": []
          }
        }
      ]
    },
    {
      "cell_type": "markdown",
      "metadata": {
        "id": "y0QIEZPnS7Sd",
        "colab_type": "text"
      },
      "source": [
        "Se observa que los niveles de alcohol entre el vino tinto y el blanco son básicamente los mismos: tienen alrededor del 9% de alcohol. Por supuesto, también hay una cantidad considerable de observaciones que tienen un 10% o 11% de porcentaje de alcohol.\n"
      ]
    },
    {
      "cell_type": "markdown",
      "metadata": {
        "id": "gpKgQ530TSUA",
        "colab_type": "text"
      },
      "source": [
        "### Sulfatos.\n",
        "\n",
        "A continuación, una cosa que puede interesar es la relación entre los sulfatos y la calidad del\n",
        "vino. Como se ha dicho anteriormente los sulfatos pueden causar dolores de cabeza a las\n",
        "personas, y puede ser interesante saber si esto influye en la calidad del vino. Tal vez esto afecta\n",
        "las calificaciones para el vino tinto?"
      ]
    },
    {
      "cell_type": "code",
      "metadata": {
        "id": "H6qYdJUMUb3E",
        "colab_type": "code",
        "outputId": "2de09b92-5669-4400-801e-6392cdf33c5c",
        "colab": {
          "base_uri": "https://localhost:8080/",
          "height": 308
        }
      },
      "source": [
        "fig, ax = plt.subplots(1, 2, figsize = (8, 4))\n",
        "\n",
        "ax[0].scatter(red['quality'], red['sulphates'], facecolor = 'red')\n",
        "ax[1].scatter(white['quality'], white['sulphates'], facecolor = 'white', ec = 'black', lw = 0.5)\n",
        "\n",
        "ax[0].set_title('Red Wine')\n",
        "ax[1].set_title('White Wine')\n",
        "ax[0].set_xlabel('Quality')\n",
        "ax[1].set_xlabel('Quality')\n",
        "ax[0].set_ylabel('Sulphates')\n",
        "ax[1].set_ylabel('Sulphates')\n",
        "ax[0].set_xlim([0, 10])\n",
        "ax[1].set_xlim([0, 10])\n",
        "ax[0].set_ylim([0, 2.5])\n",
        "ax[1].set_ylim([0, 2.5])\n",
        "\n",
        "fig.subplots_adjust(wspace = 0.5)\n",
        "fig.suptitle('Winw Quality by Amount of Sulphates')\n",
        "\n",
        "plt.show()"
      ],
      "execution_count": 10,
      "outputs": [
        {
          "output_type": "display_data",
          "data": {
            "image/png": "[encoded data removed]",
            "text/plain": [
              "<Figure size 576x288 with 2 Axes>"
            ]
          },
          "metadata": {
            "tags": []
          }
        }
      ]
    },
    {
      "cell_type": "markdown",
      "metadata": {
        "id": "uTIfBuG959r9",
        "colab_type": "text"
      },
      "source": [
        "El vino tinto parece contener más sulfatos que el vino blanco, que tiene menos sulfatos por encima de 1 g / . Para el vino blanco, solo parece haber\n",
        "un par de excepciones que caen justo por encima de 1 g / , mientras que esto definitivamente es más para los vinos tintos. \n",
        "Puede verse claramente que hay vino blanco con una cantidad relativamente baja de sulfatos que obtiene una puntuación de 9, pero por lo demás, es difícil interpretar los datos correctamente en este momento."
      ]
    },
    {
      "cell_type": "markdown",
      "metadata": {
        "id": "fRngl9DZ6YZc",
        "colab_type": "text"
      },
      "source": [
        "### Acidez.\n",
        "\n",
        "Además de los sulfatos, la acidez es una de las principales aracterísticas vitales del vino necesarias para lograr vinos de calidad. Hagamos un diagrama de dispersión que represente el alcohol versus la acidez volátil. Los puntos asociados a los datos deben colorearse de acuerdo con su clasificación:"
      ]
    },
    {
      "cell_type": "code",
      "metadata": {
        "id": "xAbXrPVr6rIC",
        "colab_type": "code",
        "outputId": "9f01971b-0f56-4cfd-dfdc-0ea512914082",
        "colab": {
          "base_uri": "https://localhost:8080/",
          "height": 533
        }
      },
      "source": [
        "import numpy as np\n",
        "\n",
        "np.random.seed(13)\n",
        "\n",
        "redlabels = np.unique(red['quality'])\n",
        "whitelabels = np.unique(white['quality'])\n",
        "\n",
        "fig, ax = plt.subplots(1, 2, figsize = (8, 4))\n",
        "redcolors = np.random.rand(6, 4)\n",
        "whitecolors = np.append(redcolors, np.random.rand(1, 4), axis = 0)\n",
        "\n",
        "for i in range(len(redcolors)):\n",
        "  redy = red['alcohol'][red.quality == redlabels[i]]\n",
        "  redx = red['volatile acidity'][red.quality == redlabels[i]]\n",
        "  ax[0]. scatter(redx, redy, c = redcolors[i])\n",
        "\n",
        "for i in range(len(whitecolors)):\n",
        "  whitey = white['alcohol'][white.quality == whitelabels[i]]\n",
        "  whitex = white['volatile acidity'][white.quality == whitelabels[i]]\n",
        "  ax[1]. scatter(whitex, whitey, c = whitecolors[i])\n",
        "\n",
        "ax[0].set_title('Red Wine')\n",
        "ax[1].set_title('White Wine')\n",
        "ax[0].set_xlim([0, 1.7])\n",
        "ax[1].set_xlim([0, 1.7])\n",
        "ax[0].set_ylim([5, 15.5])\n",
        "ax[1].set_ylim([5, 15.5])\n",
        "\n",
        "ax[0].set_xlabel('Volatile Acidity')\n",
        "ax[0].set_ylabel('Alcohol')\n",
        "ax[1].set_xlabel('Volatile Acidity')\n",
        "ax[1].set_ylabel('Alcohol')\n",
        "\n",
        "ax[1].legend(whitelabels, loc = 'best', bbox_to_anchor = (1.3, 1))\n",
        "\n",
        "fig.subplots_adjust(top = 0.85, wspace = 0.7)\n",
        "\n",
        "plt.show()"
      ],
      "execution_count": 11,
      "outputs": [
        {
          "output_type": "stream",
          "text": [
            "'c' argument looks like a single numeric RGB or RGBA sequence, which should be avoided as value-mapping will have precedence in case its length matches with 'x' & 'y'.  Please use a 2-D array with a single row if you really want to specify the same RGB or RGBA value for all points.\n",
            "'c' argument looks like a single numeric RGB or RGBA sequence, which should be avoided as value-mapping will have precedence in case its length matches with 'x' & 'y'.  Please use a 2-D array with a single row if you really want to specify the same RGB or RGBA value for all points.\n",
            "'c' argument looks like a single numeric RGB or RGBA sequence, which should be avoided as value-mapping will have precedence in case its length matches with 'x' & 'y'.  Please use a 2-D array with a single row if you really want to specify the same RGB or RGBA value for all points.\n",
            "'c' argument looks like a single numeric RGB or RGBA sequence, which should be avoided as value-mapping will have precedence in case its length matches with 'x' & 'y'.  Please use a 2-D array with a single row if you really want to specify the same RGB or RGBA value for all points.\n",
            "'c' argument looks like a single numeric RGB or RGBA sequence, which should be avoided as value-mapping will have precedence in case its length matches with 'x' & 'y'.  Please use a 2-D array with a single row if you really want to specify the same RGB or RGBA value for all points.\n",
            "'c' argument looks like a single numeric RGB or RGBA sequence, which should be avoided as value-mapping will have precedence in case its length matches with 'x' & 'y'.  Please use a 2-D array with a single row if you really want to specify the same RGB or RGBA value for all points.\n",
            "'c' argument looks like a single numeric RGB or RGBA sequence, which should be avoided as value-mapping will have precedence in case its length matches with 'x' & 'y'.  Please use a 2-D array with a single row if you really want to specify the same RGB or RGBA value for all points.\n",
            "'c' argument looks like a single numeric RGB or RGBA sequence, which should be avoided as value-mapping will have precedence in case its length matches with 'x' & 'y'.  Please use a 2-D array with a single row if you really want to specify the same RGB or RGBA value for all points.\n",
            "'c' argument looks like a single numeric RGB or RGBA sequence, which should be avoided as value-mapping will have precedence in case its length matches with 'x' & 'y'.  Please use a 2-D array with a single row if you really want to specify the same RGB or RGBA value for all points.\n",
            "'c' argument looks like a single numeric RGB or RGBA sequence, which should be avoided as value-mapping will have precedence in case its length matches with 'x' & 'y'.  Please use a 2-D array with a single row if you really want to specify the same RGB or RGBA value for all points.\n",
            "'c' argument looks like a single numeric RGB or RGBA sequence, which should be avoided as value-mapping will have precedence in case its length matches with 'x' & 'y'.  Please use a 2-D array with a single row if you really want to specify the same RGB or RGBA value for all points.\n",
            "'c' argument looks like a single numeric RGB or RGBA sequence, which should be avoided as value-mapping will have precedence in case its length matches with 'x' & 'y'.  Please use a 2-D array with a single row if you really want to specify the same RGB or RGBA value for all points.\n",
            "'c' argument looks like a single numeric RGB or RGBA sequence, which should be avoided as value-mapping will have precedence in case its length matches with 'x' & 'y'.  Please use a 2-D array with a single row if you really want to specify the same RGB or RGBA value for all points.\n"
          ],
          "name": "stderr"
        },
        {
          "output_type": "display_data",
          "data": {
            "image/png": "[encoded data removed]",
            "text/plain": [
              "<Figure size 576x288 with 2 Axes>"
            ]
          },
          "metadata": {
            "tags": []
          }
        }
      ]
    },
    {
      "cell_type": "markdown",
      "metadata": {
        "id": "j-qGTZfC_ASh",
        "colab_type": "text"
      },
      "source": [
        "En la imagen de arriba, puede verse por ejemplo que: la mayoría de los vinos con etiqueta 8 tienen niveles de acidez volátiles de 0.5 o menos, pero si tiene o no un efecto en la calidad también es difícil de decir, ya que todos los puntos de datos están muy densamente agrupados hacia un lado\n",
        "del gráfico."
      ]
    },
    {
      "cell_type": "markdown",
      "metadata": {
        "id": "wgWAIG5Z_C5f",
        "colab_type": "text"
      },
      "source": [
        "## Preprocesamiento de Datos\n",
        "\n",
        "¡Ahora que ha explorado sus datos, es hora de actuar sobre las ideas que ha obtenido!\n",
        "¡Preprocesemos los datos y comencemos a construir la red neuronal !\n"
      ]
    },
    {
      "cell_type": "code",
      "metadata": {
        "id": "fTCvZbvy_LGg",
        "colab_type": "code",
        "colab": {}
      },
      "source": [
        "# Contruimos las etiquetas, 1 vino tinto, 0 blanco\n",
        "red['type'] = 1\n",
        "white['type'] = 0\n",
        "\n",
        "# Conctenamos los dataset de vinos tintos y blancos\n",
        "wines = red.append(white, ignore_index = True)"
      ],
      "execution_count": 0,
      "outputs": []
    },
    {
      "cell_type": "markdown",
      "metadata": {
        "id": "0wuMrczZAkGM",
        "colab_type": "text"
      },
      "source": [
        "Se establece ignore_index a True en este caso ya no desea mantener las etiquetas de índice de white cuando se está añadiendo los datos al conjunto red: desea que las etiquetas continúen desde donde lo dejaron en red, y las etiquetas de índice no duplicados unirse a ambos conjuntos de datos en uno nuevo.\n"
      ]
    },
    {
      "cell_type": "markdown",
      "metadata": {
        "id": "CFgIyuhgAsds",
        "colab_type": "text"
      },
      "source": [
        "## Matriz de Correlación.\n",
        "\n",
        "Ahora que tenemos el conjunto de datos completo, es una buena idea también hacer una exploración rápida de datos; Ahora es hora de recopilar algunas ideas más sólidas en conjunto.\n",
        "Dado que puede ser algo difícil interpretar gráficos, también es una buena idea trazar una matriz de correlación. Esto proporcionará información más rápidamente sobre qué variables se correlacionan:\n"
      ]
    },
    {
      "cell_type": "code",
      "metadata": {
        "id": "NxOJqYf-Arsc",
        "colab_type": "code",
        "outputId": "5a2d65da-62d8-448e-a42c-e3d22b393d25",
        "colab": {
          "base_uri": "https://localhost:8080/",
          "height": 425
        }
      },
      "source": [
        "import seaborn as sns\n",
        "\n",
        "corr = wines.corr()\n",
        "sns.heatmap(corr, xticklabels = corr.columns.values, yticklabels = corr.columns.values)"
      ],
      "execution_count": 13,
      "outputs": [
        {
          "output_type": "stream",
          "text": [
            "/usr/local/lib/python3.6/dist-packages/statsmodels/tools/_testing.py:19: FutureWarning: pandas.util.testing is deprecated. Use the functions in the public API at pandas.testing instead.\n",
            "  import pandas.util.testing as tm\n"
          ],
          "name": "stderr"
        },
        {
          "output_type": "execute_result",
          "data": {
            "text/plain": [
              "<matplotlib.axes._subplots.AxesSubplot at 0x7f9012f85908>"
            ]
          },
          "metadata": {
            "tags": []
          },
          "execution_count": 13
        },
        {
          "output_type": "display_data",
          "data": {
            "image/png": "[encoded data removed]",
            "text/plain": [
              "<Figure size 432x288 with 2 Axes>"
            ]
          },
          "metadata": {
            "tags": []
          }
        }
      ]
    },
    {
      "cell_type": "markdown",
      "metadata": {
        "id": "KUQ7EUzMA42o",
        "colab_type": "text"
      },
      "source": [
        "Como era de esperar, hay algunas variables que se correlacionan, como density y residual sugar. También volatile acidity, y type están más estrechamente conectadas de lo que inicialmente podríamos habernos imaginado mirando a los dos conjuntos de datos por separado, y era esperable que free sulfur dioxide y total sulfur dioxide iban a estar correlacionadas."
      ]
    },
    {
      "cell_type": "markdown",
      "metadata": {
        "id": "nOtdY7AzA7_3",
        "colab_type": "text"
      },
      "source": [
        "## Conjuntos de Entrenamiento y Test.\n",
        "\n",
        "Cuando se habla de datos desequilibrados datos en un problema de clasificación normalmente se refiere a un problema, donde las clases no están representadas igualmente, es decir no tienen exactamente el mismo número de casos en cada clase, pero una pequeña diferencia a menudo no\n",
        "es importante. Por tanto, es necesario asegurarse que las dos clases de vino están presentes en el modelo de formación. Además, la cantidad de instancias de los dos tipos de vino debe ser más o menos igual para que no favorezca a una u otra clase en sus predicciones. En este caso, parece haber un desequilibrio, pero esto no será un problema en este caso.\n",
        "Posteriormente, al evaluar el modelo, si tiene un rendimiento inferior, se puede recurrir al submuestreo o al sobremuestreo para ocultar la  iferencia en las observaciones."
      ]
    },
    {
      "cell_type": "markdown",
      "metadata": {
        "id": "mHs1hG2gBYTB",
        "colab_type": "text"
      },
      "source": [
        "Creamos los conjuntos de train y test para poder crear un modelo de clasificación y medir su bondad. "
      ]
    },
    {
      "cell_type": "code",
      "metadata": {
        "id": "VvJeUJZrB81O",
        "colab_type": "code",
        "colab": {}
      },
      "source": [
        "from sklearn.model_selection import  train_test_split\n",
        "\n",
        "X = wines.iloc[:, 0:11]\n",
        "y = np.ravel(wines.type)\n",
        "\n",
        "X_train, X_test, y_train, y_test = train_test_split(X, y, test_size = 0.33, random_state = 42)"
      ],
      "execution_count": 0,
      "outputs": []
    },
    {
      "cell_type": "markdown",
      "metadata": {
        "id": "SoIHW6tcChf2",
        "colab_type": "text"
      },
      "source": [
        "Ya estamos preparados para construir nuestra primera red neuronal, pero todavía hay una cosa con la que tenemos que tener cuidado. Para que el rango de valores de cada variable no influya para la clasificación normalizaremos los datos."
      ]
    },
    {
      "cell_type": "markdown",
      "metadata": {
        "id": "GpyEq46vCw7y",
        "colab_type": "text"
      },
      "source": [
        "### Estandarizar los datos: Normalización.\n",
        "\n",
        "La normalización (estardarización) es una forma de lidiar con estos valores que están tan separados. El paquete scikit-learn le ofrece una forma excelente y rápida de estandarizar sus datos: \n"
      ]
    },
    {
      "cell_type": "code",
      "metadata": {
        "id": "o5wO9oK8C6es",
        "colab_type": "code",
        "colab": {}
      },
      "source": [
        "from sklearn.preprocessing import StandardScaler\n",
        " \n",
        "scaler = StandardScaler().fit(X_train)\n",
        "X_train = scaler.transform(X_train)\n",
        "X_test = scaler.transform(X_test)"
      ],
      "execution_count": 0,
      "outputs": []
    },
    {
      "cell_type": "markdown",
      "metadata": {
        "id": "UoEFAaEbD3N-",
        "colab_type": "text"
      },
      "source": [
        "## Datos del modelo\n",
        "Como únicamente tenemos dos clases: blanco y rojo, vamos a hacer una clasificación binaria. Como puedes imaginar, \"binario\" significa 0 o 1, sí o no. Dado que las redes neuronales solo pueden funcionar con datos numéricos, ya ha codificado rojo como 1 y blanco como 0.\n",
        "\n",
        "Un tipo de red que funciona bien en tal problema es un Perceptrón Multicapa. Este tipo de red neuronal está a menudo completamente conectada. Eso significa que se busca construir una serie de capas completamente conectadas para resolver este problema. En cuanto a la función de activación que se usará, es mejor usar una de las más comunes aquí con el fin de familiarizarse con Keras y las redes neuronales, que es la función de activación relu."
      ]
    },
    {
      "cell_type": "code",
      "metadata": {
        "id": "Qlxtpb9GD2og",
        "colab_type": "code",
        "colab": {
          "base_uri": "https://localhost:8080/",
          "height": 35
        },
        "outputId": "fafa79da-f71e-4df0-ca0a-64a92cde15bd"
      },
      "source": [
        "%tensorflow_version 2.x\n",
        "import tensorflow\n",
        "from tensorflow import keras\n",
        "from keras import Sequential\n",
        "from keras.layers import Dense\n",
        "#Inicializamos modelo red\n",
        "model = tensorflow.keras.Sequential()\n",
        "#Capa de entrada de datos\n",
        "model.add(keras.layers.Dense(12, activation = 'relu', input_shape = (11,)))\n",
        "#Capa densa\n",
        "model.add(keras.layers.Dense(8, activation = 'relu'))\n",
        "#Capa de salida\n",
        "model.add(keras.layers.Dense(1, activation = 'sigmoid'))"
      ],
      "execution_count": 16,
      "outputs": [
        {
          "output_type": "stream",
          "text": [
            "Using TensorFlow backend.\n"
          ],
          "name": "stderr"
        }
      ]
    },
    {
      "cell_type": "markdown",
      "metadata": {
        "id": "PvR-bVMQVmZj",
        "colab_type": "text"
      },
      "source": [
        "Ya tenemos nuestro modelo generado, veamos la arquitectura de la red con las siguientes sentencias:"
      ]
    },
    {
      "cell_type": "code",
      "metadata": {
        "id": "0qwZJC0GvT0c",
        "colab_type": "code",
        "colab": {
          "base_uri": "https://localhost:8080/",
          "height": 1000
        },
        "outputId": "d7e1da60-956e-478d-ae15-9ebb531b42ae"
      },
      "source": [
        "model.output_shape\n",
        "model.summary()\n",
        "model.get_config()"
      ],
      "execution_count": 18,
      "outputs": [
        {
          "output_type": "stream",
          "text": [
            "Model: \"sequential\"\n",
            "_________________________________________________________________\n",
            "Layer (type)                 Output Shape              Param #   \n",
            "=================================================================\n",
            "dense (Dense)                (None, 12)                144       \n",
            "_________________________________________________________________\n",
            "dense_1 (Dense)              (None, 8)                 104       \n",
            "_________________________________________________________________\n",
            "dense_2 (Dense)              (None, 1)                 9         \n",
            "=================================================================\n",
            "Total params: 257\n",
            "Trainable params: 257\n",
            "Non-trainable params: 0\n",
            "_________________________________________________________________\n"
          ],
          "name": "stdout"
        },
        {
          "output_type": "execute_result",
          "data": {
            "text/plain": [
              "{'build_input_shape': TensorShape([None, 11]),\n",
              " 'layers': [{'class_name': 'Dense',\n",
              "   'config': {'activation': 'relu',\n",
              "    'activity_regularizer': None,\n",
              "    'batch_input_shape': (None, 11),\n",
              "    'bias_constraint': None,\n",
              "    'bias_initializer': {'class_name': 'Zeros', 'config': {}},\n",
              "    'bias_regularizer': None,\n",
              "    'dtype': 'float32',\n",
              "    'kernel_constraint': None,\n",
              "    'kernel_initializer': {'class_name': 'GlorotUniform',\n",
              "     'config': {'seed': None}},\n",
              "    'kernel_regularizer': None,\n",
              "    'name': 'dense',\n",
              "    'trainable': True,\n",
              "    'units': 12,\n",
              "    'use_bias': True}},\n",
              "  {'class_name': 'Dense',\n",
              "   'config': {'activation': 'relu',\n",
              "    'activity_regularizer': None,\n",
              "    'bias_constraint': None,\n",
              "    'bias_initializer': {'class_name': 'Zeros', 'config': {}},\n",
              "    'bias_regularizer': None,\n",
              "    'dtype': 'float32',\n",
              "    'kernel_constraint': None,\n",
              "    'kernel_initializer': {'class_name': 'GlorotUniform',\n",
              "     'config': {'seed': None}},\n",
              "    'kernel_regularizer': None,\n",
              "    'name': 'dense_1',\n",
              "    'trainable': True,\n",
              "    'units': 8,\n",
              "    'use_bias': True}},\n",
              "  {'class_name': 'Dense',\n",
              "   'config': {'activation': 'sigmoid',\n",
              "    'activity_regularizer': None,\n",
              "    'bias_constraint': None,\n",
              "    'bias_initializer': {'class_name': 'Zeros', 'config': {}},\n",
              "    'bias_regularizer': None,\n",
              "    'dtype': 'float32',\n",
              "    'kernel_constraint': None,\n",
              "    'kernel_initializer': {'class_name': 'GlorotUniform',\n",
              "     'config': {'seed': None}},\n",
              "    'kernel_regularizer': None,\n",
              "    'name': 'dense_2',\n",
              "    'trainable': True,\n",
              "    'units': 1,\n",
              "    'use_bias': True}}],\n",
              " 'name': 'sequential'}"
            ]
          },
          "metadata": {
            "tags": []
          },
          "execution_count": 18
        }
      ]
    },
    {
      "cell_type": "markdown",
      "metadata": {
        "id": "hmXFBjyuvnKC",
        "colab_type": "text"
      },
      "source": [
        "# Compilar y ajustar el modelo.\n",
        "\n",
        "A continuación, es hora de compilar el modelo creado y ajustarlo a los datos: utilizar compile() y fit():"
      ]
    },
    {
      "cell_type": "code",
      "metadata": {
        "id": "YI1OWl2mvsUq",
        "colab_type": "code",
        "colab": {
          "base_uri": "https://localhost:8080/",
          "height": 728
        },
        "outputId": "2a507942-4051-42cd-a637-8b0f588a48d9"
      },
      "source": [
        "model.get_weights() #Pesos de la red\n",
        "model.compile(loss = 'binary_crossentropy', optimizer = 'adam', metrics = ['accuracy'])\n",
        "model.fit(X_train, y_train, epochs = 20, batch_size = 1, verbose = 1)"
      ],
      "execution_count": 19,
      "outputs": [
        {
          "output_type": "stream",
          "text": [
            "Epoch 1/20\n",
            "4352/4352 [==============================] - 5s 1ms/step - loss: 0.0853 - accuracy: 0.9777\n",
            "Epoch 2/20\n",
            "4352/4352 [==============================] - 5s 1ms/step - loss: 0.0245 - accuracy: 0.9947\n",
            "Epoch 3/20\n",
            "4352/4352 [==============================] - 5s 1ms/step - loss: 0.0199 - accuracy: 0.9956\n",
            "Epoch 4/20\n",
            "4352/4352 [==============================] - 5s 1ms/step - loss: 0.0188 - accuracy: 0.9954\n",
            "Epoch 5/20\n",
            "4352/4352 [==============================] - 5s 1ms/step - loss: 0.0160 - accuracy: 0.9966\n",
            "Epoch 6/20\n",
            "4352/4352 [==============================] - 5s 1ms/step - loss: 0.0151 - accuracy: 0.9966\n",
            "Epoch 7/20\n",
            "4352/4352 [==============================] - 5s 1ms/step - loss: 0.0145 - accuracy: 0.9966\n",
            "Epoch 8/20\n",
            "4352/4352 [==============================] - 5s 1ms/step - loss: 0.0139 - accuracy: 0.9968\n",
            "Epoch 9/20\n",
            "4352/4352 [==============================] - 5s 1ms/step - loss: 0.0133 - accuracy: 0.9972\n",
            "Epoch 10/20\n",
            "4352/4352 [==============================] - 5s 1ms/step - loss: 0.0121 - accuracy: 0.9970\n",
            "Epoch 11/20\n",
            "4352/4352 [==============================] - 5s 1ms/step - loss: 0.0123 - accuracy: 0.9970\n",
            "Epoch 12/20\n",
            "4352/4352 [==============================] - 5s 1ms/step - loss: 0.0116 - accuracy: 0.9977\n",
            "Epoch 13/20\n",
            "4352/4352 [==============================] - 5s 1ms/step - loss: 0.0105 - accuracy: 0.9979\n",
            "Epoch 14/20\n",
            "4352/4352 [==============================] - 5s 1ms/step - loss: 0.0103 - accuracy: 0.9979\n",
            "Epoch 15/20\n",
            "4352/4352 [==============================] - 5s 1ms/step - loss: 0.0095 - accuracy: 0.9982\n",
            "Epoch 16/20\n",
            "4352/4352 [==============================] - 5s 1ms/step - loss: 0.0117 - accuracy: 0.9975\n",
            "Epoch 17/20\n",
            "4352/4352 [==============================] - 5s 1ms/step - loss: 0.0089 - accuracy: 0.9982\n",
            "Epoch 18/20\n",
            "4352/4352 [==============================] - 5s 1ms/step - loss: 0.0088 - accuracy: 0.9982\n",
            "Epoch 19/20\n",
            "4352/4352 [==============================] - 5s 1ms/step - loss: 0.0085 - accuracy: 0.9984\n",
            "Epoch 20/20\n",
            "4352/4352 [==============================] - 5s 1ms/step - loss: 0.0087 - accuracy: 0.9984\n"
          ],
          "name": "stdout"
        },
        {
          "output_type": "execute_result",
          "data": {
            "text/plain": [
              "<tensorflow.python.keras.callbacks.History at 0x7f8f8d145f98>"
            ]
          },
          "metadata": {
            "tags": []
          },
          "execution_count": 19
        }
      ]
    },
    {
      "cell_type": "markdown",
      "metadata": {
        "id": "Mro0M8MTwgOt",
        "colab_type": "text"
      },
      "source": [
        "Tanto optimizer como loss son dos argumentos que se requieren si se desea compilar el modelo. Algunos de los algoritmos de optimización más populares utilizados son el Descenso de gradiente estocástico (SGD), ADAM y RMSprop. Dependiendo del algoritmo que elija, deberá ajustar ciertos parámetros, como la velocidad de aprendizaje o el término momentum (impulso). La elección de una función de error depende de la tarea que se tenga entre manos: por ejemplo, para un problema de regresión,  eneralmente usará el error cuadrático medio (MSE). Como puede ver\n",
        "en este ejemplo, se utilizó binary_crossentropy, el problema de clasificación binaria para determinar si un vino es rojo o blanco. Por último, con la clasificación de varias clases, hará uso de categorical_crossentropy."
      ]
    },
    {
      "cell_type": "markdown",
      "metadata": {
        "id": "RP5paBYtwlnE",
        "colab_type": "text"
      },
      "source": [
        "En otras palabras, se debe entrenar el modelo durante un número específico de épocas o exposiciones del conjunto de datos de entrenamiento. Una época es un solo paso a través de todo el conjunto de entrenamiento, seguido de una prueba del conjunto de verificación. El tamaño de lote que se especifique en el código anterior define el número de muestras que se propagarán a través de la red. Además, al hacer esto, se optimiza la eficiencia porque se asegura de no cargar demasiados patrones de entrada en la memoria al mismo tiempo."
      ]
    },
    {
      "cell_type": "markdown",
      "metadata": {
        "id": "YloCwKB-w0sX",
        "colab_type": "text"
      },
      "source": [
        "# Predecir valores.\n",
        "\n",
        " Puede hacer predicciones para las etiquetas del conjunto de pruebas\n",
        "con él. Simplemente use predict() y pasa el conjunto de prueba para predecir las etiquetas de los\n",
        "datos. En este caso, el resultado se almacena en y_pred:"
      ]
    },
    {
      "cell_type": "code",
      "metadata": {
        "id": "fIN9Odj5w8M_",
        "colab_type": "code",
        "colab": {}
      },
      "source": [
        "y_pred = model.predict(X_test)\n",
        "y_pred = (y_pred > 0.5)"
      ],
      "execution_count": 0,
      "outputs": []
    },
    {
      "cell_type": "code",
      "metadata": {
        "id": "WoRLRVxVxHCH",
        "colab_type": "code",
        "colab": {
          "base_uri": "https://localhost:8080/",
          "height": 156
        },
        "outputId": "1d0a0dee-9e55-4c42-afa0-8eb9ef2aefd8"
      },
      "source": [
        "print(y_pred)\n",
        "print(y_test)"
      ],
      "execution_count": 25,
      "outputs": [
        {
          "output_type": "stream",
          "text": [
            "[[False]\n",
            " [ True]\n",
            " [False]\n",
            " ...\n",
            " [False]\n",
            " [False]\n",
            " [False]]\n",
            "[0 1 0 ... 0 0 0]\n"
          ],
          "name": "stdout"
        }
      ]
    },
    {
      "cell_type": "markdown",
      "metadata": {
        "id": "Y3N4LFQdxoRW",
        "colab_type": "text"
      },
      "source": [
        "# Evaluar nuestra Red Neural Artificial \n",
        "\n",
        "Ahora que hemos creado nuestra red y la hemos utilizado para hacer predicciones sobre datos que aún no había visto, es hora de evaluar su rendimiento. Se puede comparar visualmente las predicciones con las etiquetas de prueba reales (y_test), o se puede usar todo tipo de métricas para determinar el rendimiento real. En este caso, usarás evaluate() para hacer esto. Pasar los datos de prueba y las etiquetas de prueba y, si quieres, coloca el argumento verbose a 1. "
      ]
    },
    {
      "cell_type": "code",
      "metadata": {
        "id": "cnILX2wlx1Nt",
        "colab_type": "code",
        "colab": {
          "base_uri": "https://localhost:8080/",
          "height": 52
        },
        "outputId": "a729ad6b-4fdd-4774-9044-338f24516c8c"
      },
      "source": [
        "score = model.evaluate(X_test, y_test, verbose = 1)\n",
        "print(score) #Devuelve valor de la función de perdida y el accuracy"
      ],
      "execution_count": 26,
      "outputs": [
        {
          "output_type": "stream",
          "text": [
            "68/68 [==============================] - 0s 1ms/step - loss: 0.0241 - accuracy: 0.9953\n",
            "[0.024145003408193588, 0.9953380227088928]\n"
          ],
          "name": "stdout"
        }
      ]
    },
    {
      "cell_type": "markdown",
      "metadata": {
        "id": "AeqJCDYYyJYV",
        "colab_type": "text"
      },
      "source": [
        "En este caso, probarás algunas técnicas básicas de evaluación de clasificación, como:\n",
        "\n",
        "● La matriz de confusión, que es un desglose de las predicciones en una tabla que muestra las predicciones correctas y los tipos de predicciones incorrectas realizadas. Idealmente, únicamente verás números en la diagonal, lo que significa que todas sus predicciones fueron correctas.\n",
        "\n",
        "● La precisión es una medida de la exactitud de un clasificador. Cuanto mayor sea la precisión, más preciso será el clasificador."
      ]
    },
    {
      "cell_type": "code",
      "metadata": {
        "id": "4-VGjS0GyI6t",
        "colab_type": "code",
        "colab": {
          "base_uri": "https://localhost:8080/",
          "height": 87
        },
        "outputId": "bf7ed53c-854e-4190-d8f1-a0d53ab91f03"
      },
      "source": [
        "from sklearn.metrics import confusion_matrix, precision_score, recall_score, f1_score, cohen_kappa_score\n",
        "#Matriz de confusión\n",
        "confusion = confusion_matrix(y_test, y_pred)\n",
        "print(confusion)\n",
        "#Precision\n",
        "precision = precision_score(y_test, y_pred)\n",
        "print(precision)"
      ],
      "execution_count": 27,
      "outputs": [
        {
          "output_type": "stream",
          "text": [
            "ERROR! Session/line number was not unique in database. History logging moved to new session 59\n",
            "[[1587    1]\n",
            " [   9  548]]\n",
            "0.9981785063752276\n"
          ],
          "name": "stdout"
        }
      ]
    },
    {
      "cell_type": "markdown",
      "metadata": {
        "id": "qt2mA-A-zOSM",
        "colab_type": "text"
      },
      "source": [
        "● La recuperación (recall) es una medida de la integridad de un clasificador. Cuanto mayor sea su valor, más casos cubre el clasificador"
      ]
    },
    {
      "cell_type": "code",
      "metadata": {
        "id": "DSD6VyzXzPqn",
        "colab_type": "code",
        "colab": {
          "base_uri": "https://localhost:8080/",
          "height": 35
        },
        "outputId": "f376b254-9732-4a6b-f185-d7026cc3c024"
      },
      "source": [
        "recall_score(y_test, y_pred)"
      ],
      "execution_count": 28,
      "outputs": [
        {
          "output_type": "execute_result",
          "data": {
            "text/plain": [
              "0.9838420107719928"
            ]
          },
          "metadata": {
            "tags": []
          },
          "execution_count": 28
        }
      ]
    },
    {
      "cell_type": "markdown",
      "metadata": {
        "id": "uTjiAsKzzXwE",
        "colab_type": "text"
      },
      "source": [
        "● La puntuación F1 o la puntuación F es un promedio ponderado de precisión y recuperación."
      ]
    },
    {
      "cell_type": "code",
      "metadata": {
        "id": "xYrj4Js2zYos",
        "colab_type": "code",
        "colab": {
          "base_uri": "https://localhost:8080/",
          "height": 35
        },
        "outputId": "78d6af77-0c45-4e76-87e8-813eb0acffc8"
      },
      "source": [
        "f1_score(y_test, y_pred)"
      ],
      "execution_count": 29,
      "outputs": [
        {
          "output_type": "execute_result",
          "data": {
            "text/plain": [
              "0.9909584086799277"
            ]
          },
          "metadata": {
            "tags": []
          },
          "execution_count": 29
        }
      ]
    },
    {
      "cell_type": "markdown",
      "metadata": {
        "id": "xnH5F6dgzeoo",
        "colab_type": "text"
      },
      "source": [
        "● La kappa de Kappa o Cohen es la precisión de la clasificación normalizada por el desequilibrio de las clases en los datos."
      ]
    },
    {
      "cell_type": "code",
      "metadata": {
        "id": "Qd0x5WeYzgvN",
        "colab_type": "code",
        "colab": {
          "base_uri": "https://localhost:8080/",
          "height": 35
        },
        "outputId": "929bd51e-5445-4b7b-bd04-753a608ad82a"
      },
      "source": [
        "cohen_kappa_score(y_test, y_pred)"
      ],
      "execution_count": 30,
      "outputs": [
        {
          "output_type": "execute_result",
          "data": {
            "text/plain": [
              "0.9878179265599869"
            ]
          },
          "metadata": {
            "tags": []
          },
          "execution_count": 30
        }
      ]
    },
    {
      "cell_type": "markdown",
      "metadata": {
        "id": "eTA15RN8znMN",
        "colab_type": "text"
      },
      "source": [
        "# ALGUNAS PRUEBAS MÁS.\n",
        "\n",
        "Prueba las siguientes ideas, recoge qué resultados te generan, observa cuál es su efecto y saca conclusiones (se recomienda construir una tabla de resultados donde finalmente se recoja toda la información asociada a la red y a los resultados obtenidos, y así se puedan derivar de ella las\n",
        "conclusiones) \n",
        "\n",
        "● Usaste 1 capa oculta. Intenta usar 2 o 3 capas ocultas;\n",
        "\n",
        "● Usa capas con más o menos unidades ocultas;\n",
        "\n",
        "● Cambia la función de activación en los casos anteriores. En lugar de relu, intente usar la tanh función de activación y vea cuál es el resultado. Coméntalo.\n",
        "\n",
        "● Toma la columna quality como las etiqueta objetivo, transformando ahora el problema a un problema multiclase. Aplica lo aprendido y extrae resultados y conclusiones\n",
        "\n",
        "● Elige un problema nuevo de clasificación, y aplica todo lo aprendido anteriormente.\n",
        "\n",
        "Recógelo en un documento. presenta finalmente el mejor modelo que hayas encontrado junto con las conclusiones obtenidas."
      ]
    },
    {
      "cell_type": "markdown",
      "metadata": {
        "id": "KBGn4UE9z0-P",
        "colab_type": "text"
      },
      "source": [
        "# **EJERCICIO 1:**\n",
        "\n",
        "En el modelo que generamos anteriormente solo usamos una capa oculta, usameos más capas y veamos como cambian los resultados."
      ]
    },
    {
      "cell_type": "code",
      "metadata": {
        "id": "9OTr1YdT0E9g",
        "colab_type": "code",
        "colab": {}
      },
      "source": [
        "#Inicializamos modelo red\n",
        "model = tensorflow.keras.Sequential()\n",
        "#Capa de entrada de datos\n",
        "model.add(keras.layers.Dense(12, activation = 'relu', input_shape = (11,)))\n",
        "#Capa densa\n",
        "model.add(keras.layers.Dense(8, activation = 'relu'))\n",
        "model.add(keras.layers.Dense(12, activation = 'relu'))\n",
        "model.add(keras.layers.Dense(6, activation = 'relu'))\n",
        "#Capa de salida\n",
        "model.add(keras.layers.Dense(1, activation = 'sigmoid'))"
      ],
      "execution_count": 0,
      "outputs": []
    },
    {
      "cell_type": "code",
      "metadata": {
        "id": "mwZ2fTc60SuF",
        "colab_type": "code",
        "colab": {
          "base_uri": "https://localhost:8080/",
          "height": 329
        },
        "outputId": "b0cb1a5a-5d73-4a09-a8ff-21bf04719dd4"
      },
      "source": [
        "model.summary()"
      ],
      "execution_count": 32,
      "outputs": [
        {
          "output_type": "stream",
          "text": [
            "Model: \"sequential_1\"\n",
            "_________________________________________________________________\n",
            "Layer (type)                 Output Shape              Param #   \n",
            "=================================================================\n",
            "dense_3 (Dense)              (None, 12)                144       \n",
            "_________________________________________________________________\n",
            "dense_4 (Dense)              (None, 8)                 104       \n",
            "_________________________________________________________________\n",
            "dense_5 (Dense)              (None, 12)                108       \n",
            "_________________________________________________________________\n",
            "dense_6 (Dense)              (None, 6)                 78        \n",
            "_________________________________________________________________\n",
            "dense_7 (Dense)              (None, 1)                 7         \n",
            "=================================================================\n",
            "Total params: 441\n",
            "Trainable params: 441\n",
            "Non-trainable params: 0\n",
            "_________________________________________________________________\n"
          ],
          "name": "stdout"
        }
      ]
    },
    {
      "cell_type": "markdown",
      "metadata": {
        "id": "46fmAvgU0acc",
        "colab_type": "text"
      },
      "source": [
        "Al añadir dos capas densas más, hemos aumentado notáblemente el número de pesos a entrenar. A mayor número de pesos la red va a ser capaz de aprender mejor, debemos tener cuidado porque la red sobreaprenderá demasiado y a los nuevos de valores de test no se ajustará demasiado bien. Compilemos, entrenemos y veamos que tal se comporta la red al añadir estos neuvos parámetros."
      ]
    },
    {
      "cell_type": "code",
      "metadata": {
        "id": "Ako_FxBY1Epr",
        "colab_type": "code",
        "colab": {
          "base_uri": "https://localhost:8080/",
          "height": 728
        },
        "outputId": "305eb95f-7e66-439f-99b4-11b3f4b1d817"
      },
      "source": [
        "model.get_weights() #Pesos de la red\n",
        "model.compile(loss = 'binary_crossentropy', optimizer = 'adam', metrics = ['accuracy'])\n",
        "model.fit(X_train, y_train, epochs = 20, batch_size = 1, verbose = 1)"
      ],
      "execution_count": 33,
      "outputs": [
        {
          "output_type": "stream",
          "text": [
            "Epoch 1/20\n",
            "4352/4352 [==============================] - 6s 1ms/step - loss: 0.0619 - accuracy: 0.9862\n",
            "Epoch 2/20\n",
            "4352/4352 [==============================] - 6s 1ms/step - loss: 0.0258 - accuracy: 0.9952\n",
            "Epoch 3/20\n",
            "4352/4352 [==============================] - 6s 1ms/step - loss: 0.0225 - accuracy: 0.9949\n",
            "Epoch 4/20\n",
            "4352/4352 [==============================] - 6s 1ms/step - loss: 0.0192 - accuracy: 0.9961\n",
            "Epoch 5/20\n",
            "4352/4352 [==============================] - 6s 1ms/step - loss: 0.0189 - accuracy: 0.9954\n",
            "Epoch 6/20\n",
            "4352/4352 [==============================] - 6s 1ms/step - loss: 0.0158 - accuracy: 0.9970\n",
            "Epoch 7/20\n",
            "4352/4352 [==============================] - 6s 1ms/step - loss: 0.0152 - accuracy: 0.9966\n",
            "Epoch 8/20\n",
            "4352/4352 [==============================] - 6s 1ms/step - loss: 0.0154 - accuracy: 0.9968\n",
            "Epoch 9/20\n",
            "4352/4352 [==============================] - 6s 1ms/step - loss: 0.0138 - accuracy: 0.9970\n",
            "Epoch 10/20\n",
            "4352/4352 [==============================] - 6s 1ms/step - loss: 0.0139 - accuracy: 0.9972\n",
            "Epoch 11/20\n",
            "4352/4352 [==============================] - 6s 1ms/step - loss: 0.0136 - accuracy: 0.9972\n",
            "Epoch 12/20\n",
            "4352/4352 [==============================] - 6s 1ms/step - loss: 0.0125 - accuracy: 0.9972\n",
            "Epoch 13/20\n",
            "4352/4352 [==============================] - 6s 1ms/step - loss: 0.0132 - accuracy: 0.9972\n",
            "Epoch 14/20\n",
            "4352/4352 [==============================] - 5s 1ms/step - loss: 0.0108 - accuracy: 0.9982\n",
            "Epoch 15/20\n",
            "4352/4352 [==============================] - 6s 1ms/step - loss: 0.0102 - accuracy: 0.9979\n",
            "Epoch 16/20\n",
            "4352/4352 [==============================] - 6s 1ms/step - loss: 0.0120 - accuracy: 0.9977\n",
            "Epoch 17/20\n",
            "4352/4352 [==============================] - 6s 1ms/step - loss: 0.0114 - accuracy: 0.9972\n",
            "Epoch 18/20\n",
            "4352/4352 [==============================] - 6s 1ms/step - loss: 0.0135 - accuracy: 0.9972\n",
            "Epoch 19/20\n",
            "4352/4352 [==============================] - 6s 1ms/step - loss: 0.0089 - accuracy: 0.9984\n",
            "Epoch 20/20\n",
            "4352/4352 [==============================] - 6s 1ms/step - loss: 0.0098 - accuracy: 0.9979\n"
          ],
          "name": "stdout"
        },
        {
          "output_type": "execute_result",
          "data": {
            "text/plain": [
              "<tensorflow.python.keras.callbacks.History at 0x7f8f89a11400>"
            ]
          },
          "metadata": {
            "tags": []
          },
          "execution_count": 33
        }
      ]
    },
    {
      "cell_type": "code",
      "metadata": {
        "id": "b_uXDe6W1gQE",
        "colab_type": "code",
        "colab": {
          "base_uri": "https://localhost:8080/",
          "height": 87
        },
        "outputId": "2c9e6802-b28b-47e4-887a-7f20e7d91990"
      },
      "source": [
        "y_pred = model.predict(X_test)\n",
        "y_pred = (y_pred > 0.5)\n",
        "score = model.evaluate(X_test, y_test, verbose = 1)\n",
        "print(score) #Devuelve valor de la función de perdida y el accuracy\n",
        "#Matriz de confusión\n",
        "confusion = confusion_matrix(y_test, y_pred)\n",
        "print(confusion)"
      ],
      "execution_count": 34,
      "outputs": [
        {
          "output_type": "stream",
          "text": [
            "68/68 [==============================] - 0s 992us/step - loss: 0.0242 - accuracy: 0.9949\n",
            "[0.024188699200749397, 0.9948717951774597]\n",
            "[[1585    3]\n",
            " [   8  549]]\n"
          ],
          "name": "stdout"
        }
      ]
    },
    {
      "cell_type": "markdown",
      "metadata": {
        "id": "3yKPGbzj16DG",
        "colab_type": "text"
      },
      "source": [
        "Las diferencias entre el valor de la función de perdida del modelo anterior y este son prácticamente despreciables. Comparemos las tablas de confusión donde podemos ver el número de aciertos, falsos negátivos, etc.\n",
        "\n",
        "En este caso el modelo se equivoca dos deces más en predecir un vino tinto cuando en realidad es un vino blanco pero sin embargo acierta una vez más para la predicción de vinos blancos. En esencia los dos modelos son prácticamente iguales."
      ]
    },
    {
      "cell_type": "markdown",
      "metadata": {
        "id": "UXbWzVZ12wMB",
        "colab_type": "text"
      },
      "source": [
        "Para cada capa densa hemos cambiado el número de neuronas haciendo así que vayamos de menos a más neuronas y luego disminuyamos el número de neuronas hasta la última capa. Pongamos en todas las capas ocultas el mismo número de neuronas y comparemos los resultados del nuevo modelo."
      ]
    },
    {
      "cell_type": "code",
      "metadata": {
        "id": "PUjMEbL43JaZ",
        "colab_type": "code",
        "colab": {}
      },
      "source": [
        "#Inicializamos modelo red\n",
        "model = tensorflow.keras.Sequential()\n",
        "#Capa de entrada de datos\n",
        "model.add(keras.layers.Dense(12, activation = 'relu', input_shape = (11,)))\n",
        "#Capa densa\n",
        "model.add(keras.layers.Dense(8, activation = 'relu'))\n",
        "model.add(keras.layers.Dense(8, activation = 'relu'))\n",
        "model.add(keras.layers.Dense(8, activation = 'relu'))\n",
        "#Capa de salida\n",
        "model.add(keras.layers.Dense(1, activation = 'sigmoid'))"
      ],
      "execution_count": 0,
      "outputs": []
    },
    {
      "cell_type": "code",
      "metadata": {
        "id": "hwmA8Vzx3S_Z",
        "colab_type": "code",
        "colab": {
          "base_uri": "https://localhost:8080/",
          "height": 329
        },
        "outputId": "b775bf58-85fe-4baf-b122-de9748820eac"
      },
      "source": [
        "model.summary()"
      ],
      "execution_count": 36,
      "outputs": [
        {
          "output_type": "stream",
          "text": [
            "Model: \"sequential_2\"\n",
            "_________________________________________________________________\n",
            "Layer (type)                 Output Shape              Param #   \n",
            "=================================================================\n",
            "dense_8 (Dense)              (None, 12)                144       \n",
            "_________________________________________________________________\n",
            "dense_9 (Dense)              (None, 8)                 104       \n",
            "_________________________________________________________________\n",
            "dense_10 (Dense)             (None, 8)                 72        \n",
            "_________________________________________________________________\n",
            "dense_11 (Dense)             (None, 8)                 72        \n",
            "_________________________________________________________________\n",
            "dense_12 (Dense)             (None, 1)                 9         \n",
            "=================================================================\n",
            "Total params: 401\n",
            "Trainable params: 401\n",
            "Non-trainable params: 0\n",
            "_________________________________________________________________\n"
          ],
          "name": "stdout"
        }
      ]
    },
    {
      "cell_type": "code",
      "metadata": {
        "id": "F3RCKEhu3XUY",
        "colab_type": "code",
        "colab": {
          "base_uri": "https://localhost:8080/",
          "height": 728
        },
        "outputId": "92312f31-e9ac-4551-a535-009f58417849"
      },
      "source": [
        "model.get_weights() #Pesos de la red\n",
        "model.compile(loss = 'binary_crossentropy', optimizer = 'adam', metrics = ['accuracy'])\n",
        "model.fit(X_train, y_train, epochs = 20, batch_size = 1, verbose = 1)"
      ],
      "execution_count": 37,
      "outputs": [
        {
          "output_type": "stream",
          "text": [
            "Epoch 1/20\n",
            "4352/4352 [==============================] - 6s 1ms/step - loss: 0.0854 - accuracy: 0.9681\n",
            "Epoch 2/20\n",
            "4352/4352 [==============================] - 6s 1ms/step - loss: 0.0279 - accuracy: 0.9945\n",
            "Epoch 3/20\n",
            "4352/4352 [==============================] - 6s 1ms/step - loss: 0.0212 - accuracy: 0.9956\n",
            "Epoch 4/20\n",
            "4352/4352 [==============================] - 6s 1ms/step - loss: 0.0183 - accuracy: 0.9961\n",
            "Epoch 5/20\n",
            "4352/4352 [==============================] - 6s 1ms/step - loss: 0.0167 - accuracy: 0.9970\n",
            "Epoch 6/20\n",
            "4352/4352 [==============================] - 6s 1ms/step - loss: 0.0240 - accuracy: 0.9966\n",
            "Epoch 7/20\n",
            "4352/4352 [==============================] - 6s 1ms/step - loss: 0.0160 - accuracy: 0.9968\n",
            "Epoch 8/20\n",
            "4352/4352 [==============================] - 6s 1ms/step - loss: 0.0172 - accuracy: 0.9972\n",
            "Epoch 9/20\n",
            "4352/4352 [==============================] - 6s 1ms/step - loss: 0.0142 - accuracy: 0.9975\n",
            "Epoch 10/20\n",
            "4352/4352 [==============================] - 6s 1ms/step - loss: 0.0169 - accuracy: 0.9970\n",
            "Epoch 11/20\n",
            "4352/4352 [==============================] - 6s 1ms/step - loss: 0.0133 - accuracy: 0.9972\n",
            "Epoch 12/20\n",
            "4352/4352 [==============================] - 6s 1ms/step - loss: 0.0121 - accuracy: 0.9977\n",
            "Epoch 13/20\n",
            "4352/4352 [==============================] - 6s 1ms/step - loss: 0.0122 - accuracy: 0.9979\n",
            "Epoch 14/20\n",
            "4352/4352 [==============================] - 6s 1ms/step - loss: 0.0116 - accuracy: 0.9979\n",
            "Epoch 15/20\n",
            "4352/4352 [==============================] - 6s 1ms/step - loss: 0.0128 - accuracy: 0.9975\n",
            "Epoch 16/20\n",
            "4352/4352 [==============================] - 6s 1ms/step - loss: 0.0131 - accuracy: 0.9977\n",
            "Epoch 17/20\n",
            "4352/4352 [==============================] - 6s 1ms/step - loss: 0.0108 - accuracy: 0.9982\n",
            "Epoch 18/20\n",
            "4352/4352 [==============================] - 6s 1ms/step - loss: 0.0100 - accuracy: 0.9982\n",
            "Epoch 19/20\n",
            "4352/4352 [==============================] - 6s 1ms/step - loss: 0.0181 - accuracy: 0.9966\n",
            "Epoch 20/20\n",
            "4352/4352 [==============================] - 6s 1ms/step - loss: 0.0095 - accuracy: 0.9984\n"
          ],
          "name": "stdout"
        },
        {
          "output_type": "execute_result",
          "data": {
            "text/plain": [
              "<tensorflow.python.keras.callbacks.History at 0x7f8f880031d0>"
            ]
          },
          "metadata": {
            "tags": []
          },
          "execution_count": 37
        }
      ]
    },
    {
      "cell_type": "code",
      "metadata": {
        "id": "sw__MuB05E4B",
        "colab_type": "code",
        "colab": {
          "base_uri": "https://localhost:8080/",
          "height": 87
        },
        "outputId": "df1b012b-ed31-4e83-83d5-020579717308"
      },
      "source": [
        "y_pred = model.predict(X_test)\n",
        "y_pred = (y_pred > 0.5)\n",
        "score = model.evaluate(X_test, y_test, verbose = 1)\n",
        "print(score) #Devuelve valor de la función de perdida y el accuracy\n",
        "#Matriz de confusión\n",
        "confusion = confusion_matrix(y_test, y_pred)\n",
        "print(confusion)"
      ],
      "execution_count": 38,
      "outputs": [
        {
          "output_type": "stream",
          "text": [
            "68/68 [==============================] - 0s 1ms/step - loss: 0.0331 - accuracy: 0.9925\n",
            "[0.033138126134872437, 0.9925407767295837]\n",
            "[[1588    0]\n",
            " [  16  541]]\n"
          ],
          "name": "stdout"
        }
      ]
    },
    {
      "cell_type": "markdown",
      "metadata": {
        "id": "TtSgjJe35GlL",
        "colab_type": "text"
      },
      "source": [
        "Es interesante lo que hemos obtenido para este modelo, aquí el número de falsos negativos es cero y sin embargo hemos aumentado el de falsos positivos. Esto es algo muy a tener en cuenta dependiendo del problema de clasificación, imaginad que el problema es clasificacar la presencia de cancer en un paciente. Queremos sobre todo, no producir clasificaciones erroneas del tipo ausencia de cáncer cuando en realidad hay presencia. Es por ello que no siempre el modelo con mayor accuracy es el mejor, sino el que no nosotros creamos que es más conveniente para nuestro problema."
      ]
    },
    {
      "cell_type": "markdown",
      "metadata": {
        "id": "HbdspJPr52B2",
        "colab_type": "text"
      },
      "source": [
        "# **EJERCICIO 2**\n",
        "\n",
        "Hasta ahora solo hemos usado la función de activación Relu, una función constantemente cero y que en un momento empieza a crecer. Que pasaría si cambiamos la función de activación por la función $\\tanh$.\n",
        "\n"
      ]
    },
    {
      "cell_type": "markdown",
      "metadata": {
        "id": "PBglbm3r78i1",
        "colab_type": "text"
      },
      "source": [
        "Una de las mayores diferencias entre estas dos funciones de activación es la regularidad. La fucnión Relu es una función continua pero sin embargo no es derivable en el punto $x=0$. La función tangente hiperbólica es una función de clase $\\mathcal{C}^\\infty(\\mathbb{R})$ de hecho es inclusive analítica. El teorema de aproximación universal nos da la receta para entender la importancia de las funciones de activación para cada neurona."
      ]
    },
    {
      "cell_type": "markdown",
      "metadata": {
        "id": "b8bzQPkP91zy",
        "colab_type": "text"
      },
      "source": [
        "## Teorema:\n",
        "\n",
        "Sea $\\varphi : \\mathbb{R}\\rightarrow \\mathbb{R}$ una función acotada, continua y no constante, a los elementos de esta familia de funciones las llamaremos funciones de activación. Consideremos $K\\subset \\mathbb{R}^m$ un compacto y el espacio de funciones continuas valuadas en dicho conjunto, $\\mathcal{C}(K)$. Entonces, $\\forall f\\in \\mathcal{C}(K)$ y $\\forall \\epsilon >0$ existen $N\\in\\mathbb{N}$,  $v_i,b_i\\in \\mathbb{R}$ y vectores $\\omega_i \\in \\mathbb{R}^m$ para $i=1,\\dots,N$, de manera que\n",
        "$$|F(\\textbf{x}) - f(\\textbf{x})| < \\epsilon, \\ \\ \\forall \\textbf{x}\\in K, $$\n",
        "donde la función F viene defina como sigue:\n",
        "$$F(\\textbf{x}) = \\sum_{i=1}^N v_i\\varphi(\\omega_i^T\\textbf{x}+b_i).$$\n",
        "\n",
        "Este resultado nos da una convergencia puntual sobre cualquier elemento en el espacio de funciones continuas valuadas sobre un compacto. Basicamente podemos apróximar cualquier función continual mediante unas funciones que se construyen con funciones de activación. Al cambiar las funciones de activación en nuestro modelo puede que esa convergencia se de forma más rápida."
      ]
    },
    {
      "cell_type": "code",
      "metadata": {
        "id": "g_-Qtb-bD7SG",
        "colab_type": "code",
        "colab": {
          "base_uri": "https://localhost:8080/",
          "height": 1000
        },
        "outputId": "92d6cd42-74e6-4b37-cdef-4088b10b173a"
      },
      "source": [
        "#Inicializamos modelo red\n",
        "model = tensorflow.keras.Sequential()\n",
        "#Capa de entrada de datos\n",
        "model.add(keras.layers.Dense(12, activation = 'relu', input_shape = (11,)))\n",
        "#Capa densa\n",
        "model.add(keras.layers.Dense(8, activation = 'tanh'))\n",
        "#Capa de salida\n",
        "model.add(keras.layers.Dense(1, activation = 'sigmoid'))\n",
        "\n",
        "model.summary()\n",
        "\n",
        "model.get_weights() #Pesos de la red\n",
        "model.compile(loss = 'binary_crossentropy', optimizer = 'adam', metrics = ['accuracy'])\n",
        "model.fit(X_train, y_train, epochs = 20, batch_size = 1, verbose = 1)\n",
        "\n",
        "y_pred = model.predict(X_test)\n",
        "y_pred = (y_pred > 0.5)\n",
        "score = model.evaluate(X_test, y_test, verbose = 1)\n",
        "print(score) #Devuelve valor de la función de perdida y el accuracy\n",
        "#Matriz de confusión\n",
        "confusion = confusion_matrix(y_test, y_pred)\n",
        "print(confusion)"
      ],
      "execution_count": 39,
      "outputs": [
        {
          "output_type": "stream",
          "text": [
            "Model: \"sequential_3\"\n",
            "_________________________________________________________________\n",
            "Layer (type)                 Output Shape              Param #   \n",
            "=================================================================\n",
            "dense_13 (Dense)             (None, 12)                144       \n",
            "_________________________________________________________________\n",
            "dense_14 (Dense)             (None, 8)                 104       \n",
            "_________________________________________________________________\n",
            "dense_15 (Dense)             (None, 1)                 9         \n",
            "=================================================================\n",
            "Total params: 257\n",
            "Trainable params: 257\n",
            "Non-trainable params: 0\n",
            "_________________________________________________________________\n",
            "Epoch 1/20\n",
            "4352/4352 [==============================] - 5s 1ms/step - loss: 0.0698 - accuracy: 0.9830\n",
            "Epoch 2/20\n",
            "4352/4352 [==============================] - 5s 1ms/step - loss: 0.0241 - accuracy: 0.9947\n",
            "Epoch 3/20\n",
            "4352/4352 [==============================] - 5s 1ms/step - loss: 0.0206 - accuracy: 0.9956\n",
            "Epoch 4/20\n",
            "4352/4352 [==============================] - 5s 1ms/step - loss: 0.0183 - accuracy: 0.9963\n",
            "Epoch 5/20\n",
            "4352/4352 [==============================] - 5s 1ms/step - loss: 0.0173 - accuracy: 0.9966\n",
            "Epoch 6/20\n",
            "4352/4352 [==============================] - 5s 1ms/step - loss: 0.0168 - accuracy: 0.9970\n",
            "Epoch 7/20\n",
            "4352/4352 [==============================] - 5s 1ms/step - loss: 0.0146 - accuracy: 0.9972\n",
            "Epoch 8/20\n",
            "4352/4352 [==============================] - 5s 1ms/step - loss: 0.0150 - accuracy: 0.9977\n",
            "Epoch 9/20\n",
            "4352/4352 [==============================] - 5s 1ms/step - loss: 0.0138 - accuracy: 0.9970\n",
            "Epoch 10/20\n",
            "4352/4352 [==============================] - 5s 1ms/step - loss: 0.0128 - accuracy: 0.9979\n",
            "Epoch 11/20\n",
            "4352/4352 [==============================] - 5s 1ms/step - loss: 0.0142 - accuracy: 0.9975\n",
            "Epoch 12/20\n",
            "4352/4352 [==============================] - 5s 1ms/step - loss: 0.0122 - accuracy: 0.9977\n",
            "Epoch 13/20\n",
            "4352/4352 [==============================] - 5s 1ms/step - loss: 0.0119 - accuracy: 0.9979\n",
            "Epoch 14/20\n",
            "4352/4352 [==============================] - 5s 1ms/step - loss: 0.0118 - accuracy: 0.9977\n",
            "Epoch 15/20\n",
            "4352/4352 [==============================] - 5s 1ms/step - loss: 0.0116 - accuracy: 0.9979\n",
            "Epoch 16/20\n",
            "4352/4352 [==============================] - 6s 1ms/step - loss: 0.0117 - accuracy: 0.9979\n",
            "Epoch 17/20\n",
            "4352/4352 [==============================] - 5s 1ms/step - loss: 0.0107 - accuracy: 0.9982\n",
            "Epoch 18/20\n",
            "4352/4352 [==============================] - 5s 1ms/step - loss: 0.0112 - accuracy: 0.9979\n",
            "Epoch 19/20\n",
            "4352/4352 [==============================] - 5s 1ms/step - loss: 0.0108 - accuracy: 0.9982\n",
            "Epoch 20/20\n",
            "4352/4352 [==============================] - 5s 1ms/step - loss: 0.0104 - accuracy: 0.9982\n",
            "68/68 [==============================] - 0s 1ms/step - loss: 0.0262 - accuracy: 0.9953\n",
            "[0.026217231526970863, 0.9953380227088928]\n",
            "[[1587    1]\n",
            " [   9  548]]\n"
          ],
          "name": "stdout"
        }
      ]
    },
    {
      "cell_type": "markdown",
      "metadata": {
        "id": "HcFlZk9HE6UR",
        "colab_type": "text"
      },
      "source": [
        "Los resultados son practicamente igules debido a que el número de observaciones y parámetros es muy reducido."
      ]
    },
    {
      "cell_type": "markdown",
      "metadata": {
        "id": "aS7pk-qsFJv4",
        "colab_type": "text"
      },
      "source": [
        "# **EJERCICIO 3**\n",
        "\n",
        "Ahora tomaremos la columna quality como las etiqueta objetivo, transformando ahora el problema a un problema multiclase.\n",
        "\n",
        "Construiremos de nuevo nuestros conjuntos de datos train y test con la nueva variable a clasificar."
      ]
    },
    {
      "cell_type": "code",
      "metadata": {
        "id": "rc6uG6UGJYh3",
        "colab_type": "code",
        "colab": {}
      },
      "source": [
        "from sklearn.preprocessing import LabelEncoder\n",
        "from keras.utils import np_utils\n",
        "# codificamos\n",
        "encoder = LabelEncoder()\n",
        "encoder.fit(wines.quality)\n",
        "encoded_y = encoder.transform(wines.quality)\n",
        "# codificacion en caliente ( hot encoded)\n",
        "dummy_y = np_utils.to_categorical(encoded_y)"
      ],
      "execution_count": 0,
      "outputs": []
    },
    {
      "cell_type": "code",
      "metadata": {
        "id": "P8mIRMQvFjlC",
        "colab_type": "code",
        "colab": {}
      },
      "source": [
        "X = wines.drop(['quality'], axis = 1)\n",
        "y = dummy_y\n",
        "#Conjuntos train y test\n",
        "X_train, X_test, y_train, y_test = train_test_split(X, y, test_size = 0.33, random_state = 42)\n",
        "#Normalizar datos\n",
        "scaler = StandardScaler().fit(X_train)\n",
        "X_train = scaler.transform(X_train)\n",
        "X_test = scaler.transform(X_test)"
      ],
      "execution_count": 0,
      "outputs": []
    },
    {
      "cell_type": "code",
      "metadata": {
        "id": "Ixce8jP4LytF",
        "colab_type": "code",
        "colab": {
          "base_uri": "https://localhost:8080/",
          "height": 35
        },
        "outputId": "fcd06ae7-447f-4a87-c67a-2b237e755939"
      },
      "source": [
        "np.shape(y_test) #para saver numero de clases"
      ],
      "execution_count": 78,
      "outputs": [
        {
          "output_type": "execute_result",
          "data": {
            "text/plain": [
              "(2145, 7)"
            ]
          },
          "metadata": {
            "tags": []
          },
          "execution_count": 78
        }
      ]
    },
    {
      "cell_type": "markdown",
      "metadata": {
        "id": "k6gy7fwVHBWd",
        "colab_type": "text"
      },
      "source": [
        "Creamos nuevo modelo cambiando la última capa y la función de perdida ya que nos encontramos en un problema multiclase."
      ]
    },
    {
      "cell_type": "code",
      "metadata": {
        "id": "1GBe6ylgHKWF",
        "colab_type": "code",
        "colab": {
          "base_uri": "https://localhost:8080/",
          "height": 295
        },
        "outputId": "23c77090-d46e-4fe5-97fb-d967907a64a7"
      },
      "source": [
        "#Inicializamos modelo red\n",
        "model = tensorflow.keras.Sequential()\n",
        "#Capa de entrada de datos\n",
        "model.add(keras.layers.Dense(12, activation = 'relu', input_shape = (12,)))\n",
        "#Capa densa\n",
        "model.add(keras.layers.Dense(8, activation = 'relu'))\n",
        "model.add(keras.layers.Dense(14, activation = 'tanh'))\n",
        "#Capa de salida\n",
        "model.add(keras.layers.Dense(7, activation='sigmoid'))\n",
        "\n",
        "model.summary()"
      ],
      "execution_count": 92,
      "outputs": [
        {
          "output_type": "stream",
          "text": [
            "Model: \"sequential_14\"\n",
            "_________________________________________________________________\n",
            "Layer (type)                 Output Shape              Param #   \n",
            "=================================================================\n",
            "dense_46 (Dense)             (None, 12)                156       \n",
            "_________________________________________________________________\n",
            "dense_47 (Dense)             (None, 8)                 104       \n",
            "_________________________________________________________________\n",
            "dense_48 (Dense)             (None, 14)                126       \n",
            "_________________________________________________________________\n",
            "dense_49 (Dense)             (None, 7)                 105       \n",
            "=================================================================\n",
            "Total params: 491\n",
            "Trainable params: 491\n",
            "Non-trainable params: 0\n",
            "_________________________________________________________________\n"
          ],
          "name": "stdout"
        }
      ]
    },
    {
      "cell_type": "code",
      "metadata": {
        "id": "yBkmKkfUIba1",
        "colab_type": "code",
        "colab": {
          "base_uri": "https://localhost:8080/",
          "height": 1000
        },
        "outputId": "833e6bdb-7ca0-4c7e-f520-3cb315cf6afc"
      },
      "source": [
        "model.get_weights() #Pesos de la red\n",
        "model.compile(loss = 'categorical_crossentropy', optimizer = 'adam', metrics = ['accuracy'])\n",
        "model.fit(X_train, y_train, epochs = 30, batch_size = 1, verbose = 1)"
      ],
      "execution_count": 93,
      "outputs": [
        {
          "output_type": "stream",
          "text": [
            "Epoch 1/30\n",
            "4352/4352 [==============================] - 6s 1ms/step - loss: 1.1598 - accuracy: 0.5103\n",
            "Epoch 2/30\n",
            "4352/4352 [==============================] - 6s 1ms/step - loss: 1.0728 - accuracy: 0.5384\n",
            "Epoch 3/30\n",
            "4352/4352 [==============================] - 6s 1ms/step - loss: 1.0570 - accuracy: 0.5476\n",
            "Epoch 4/30\n",
            "4352/4352 [==============================] - 6s 1ms/step - loss: 1.0497 - accuracy: 0.5430\n",
            "Epoch 5/30\n",
            "4352/4352 [==============================] - 6s 1ms/step - loss: 1.0405 - accuracy: 0.5503\n",
            "Epoch 6/30\n",
            "4352/4352 [==============================] - 6s 1ms/step - loss: 1.0359 - accuracy: 0.5503\n",
            "Epoch 7/30\n",
            "4352/4352 [==============================] - 6s 1ms/step - loss: 1.0295 - accuracy: 0.5533\n",
            "Epoch 8/30\n",
            "4352/4352 [==============================] - 6s 1ms/step - loss: 1.0285 - accuracy: 0.5561\n",
            "Epoch 9/30\n",
            "4352/4352 [==============================] - 6s 1ms/step - loss: 1.0229 - accuracy: 0.5602\n",
            "Epoch 10/30\n",
            "4352/4352 [==============================] - 6s 1ms/step - loss: 1.0220 - accuracy: 0.5673\n",
            "Epoch 11/30\n",
            "4352/4352 [==============================] - 6s 1ms/step - loss: 1.0194 - accuracy: 0.5620\n",
            "Epoch 12/30\n",
            "4352/4352 [==============================] - 6s 1ms/step - loss: 1.0168 - accuracy: 0.5712\n",
            "Epoch 13/30\n",
            "4352/4352 [==============================] - 6s 1ms/step - loss: 1.0123 - accuracy: 0.5689\n",
            "Epoch 14/30\n",
            "4352/4352 [==============================] - 6s 1ms/step - loss: 1.0096 - accuracy: 0.5705\n",
            "Epoch 15/30\n",
            "4352/4352 [==============================] - 6s 1ms/step - loss: 1.0051 - accuracy: 0.5687\n",
            "Epoch 16/30\n",
            "4352/4352 [==============================] - 6s 1ms/step - loss: 1.0048 - accuracy: 0.5687\n",
            "Epoch 17/30\n",
            "4352/4352 [==============================] - 6s 1ms/step - loss: 0.9998 - accuracy: 0.5774\n",
            "Epoch 18/30\n",
            "4352/4352 [==============================] - 6s 1ms/step - loss: 0.9999 - accuracy: 0.5708\n",
            "Epoch 19/30\n",
            "4352/4352 [==============================] - 6s 1ms/step - loss: 0.9963 - accuracy: 0.5758\n",
            "Epoch 20/30\n",
            "4352/4352 [==============================] - 6s 1ms/step - loss: 0.9935 - accuracy: 0.5765\n",
            "Epoch 21/30\n",
            "4352/4352 [==============================] - 6s 1ms/step - loss: 0.9903 - accuracy: 0.5772\n",
            "Epoch 22/30\n",
            "4352/4352 [==============================] - 6s 1ms/step - loss: 0.9879 - accuracy: 0.5701\n",
            "Epoch 23/30\n",
            "4352/4352 [==============================] - 6s 1ms/step - loss: 0.9875 - accuracy: 0.5756\n",
            "Epoch 24/30\n",
            "4352/4352 [==============================] - 6s 1ms/step - loss: 0.9836 - accuracy: 0.5800\n",
            "Epoch 25/30\n",
            "4352/4352 [==============================] - 6s 1ms/step - loss: 0.9823 - accuracy: 0.5749\n",
            "Epoch 26/30\n",
            "4352/4352 [==============================] - 6s 1ms/step - loss: 0.9802 - accuracy: 0.5763\n",
            "Epoch 27/30\n",
            "4352/4352 [==============================] - 6s 1ms/step - loss: 0.9758 - accuracy: 0.5781\n",
            "Epoch 28/30\n",
            "4352/4352 [==============================] - 6s 1ms/step - loss: 0.9794 - accuracy: 0.5836\n",
            "Epoch 29/30\n",
            "4352/4352 [==============================] - 6s 1ms/step - loss: 0.9770 - accuracy: 0.5763\n",
            "Epoch 30/30\n",
            "4352/4352 [==============================] - 6s 1ms/step - loss: 0.9718 - accuracy: 0.5825\n"
          ],
          "name": "stdout"
        },
        {
          "output_type": "execute_result",
          "data": {
            "text/plain": [
              "<tensorflow.python.keras.callbacks.History at 0x7f8f84737eb8>"
            ]
          },
          "metadata": {
            "tags": []
          },
          "execution_count": 93
        }
      ]
    },
    {
      "cell_type": "code",
      "metadata": {
        "id": "bfC_JsMONj-Q",
        "colab_type": "code",
        "colab": {
          "base_uri": "https://localhost:8080/",
          "height": 52
        },
        "outputId": "6077c928-3045-490a-fd22-123e6f01adc3"
      },
      "source": [
        "y_pred = model.predict(X_test)\n",
        "y_pred = (y_pred > 0.5)\n",
        "score = model.evaluate(X_test, y_test, verbose = 1)\n",
        "print(score) #Devuelve valor de la función de perdida y el accuracy\n"
      ],
      "execution_count": 97,
      "outputs": [
        {
          "output_type": "stream",
          "text": [
            "68/68 [==============================] - 0s 1ms/step - loss: 1.0678 - accuracy: 0.5399\n",
            "[1.0678467750549316, 0.5398601293563843]\n"
          ],
          "name": "stdout"
        }
      ]
    },
    {
      "cell_type": "markdown",
      "metadata": {
        "id": "CratkkUpN0IE",
        "colab_type": "text"
      },
      "source": [
        "El problema se vuelve mucho más complicado y los resultados empeoran notablemente."
      ]
    }
  ]
}