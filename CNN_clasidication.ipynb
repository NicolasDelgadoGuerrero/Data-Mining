{
  "nbformat": 4,
  "nbformat_minor": 0,
  "metadata": {
    "colab": {
      "name": "Hector_KaggleCompetition_gnh_2020.ipynb",
      "provenance": [],
      "private_outputs": true,
      "collapsed_sections": [],
      "machine_shape": "hm"
    },
    "kernelspec": {
      "name": "python3",
      "display_name": "Python 3"
    },
    "accelerator": "GPU"
  },
  "cells": [
    {
      "cell_type": "markdown",
      "metadata": {
        "id": "JuhjYR_7M32A",
        "colab_type": "text"
      },
      "source": [
        "# **Python Colab Notebook**\n",
        "\n",
        "**Kaggle Competition** \"Usos del suelo desde el espacio\"\n",
        "\n",
        "**Equipo** \"gnh_2020\"\n",
        "\n",
        "**Integrantes** Gabriel Cervera, Nicolás Delgado, Héctor Quintero"
      ]
    },
    {
      "cell_type": "markdown",
      "metadata": {
        "id": "VU5a_yqtZO6y",
        "colab_type": "text"
      },
      "source": [
        "# **Librerías necesarias**"
      ]
    },
    {
      "cell_type": "code",
      "metadata": {
        "id": "P0V893wHZVbL",
        "colab_type": "code",
        "colab": {}
      },
      "source": [
        "import csv\n",
        "import cv2\n",
        "import numpy as np\n",
        "import matplotlib.pyplot as plt\n",
        "import os\n",
        "import pathlib\n",
        "import pandas as pd\n",
        "import scipy\n",
        "\n",
        "%tensorflow_version 2.x\n",
        "import tensorflow as tf\n",
        "\n",
        "from tensorflow import keras\n",
        "from sklearn.model_selection import train_test_split\n",
        "from sklearn.preprocessing import LabelEncoder"
      ],
      "execution_count": null,
      "outputs": []
    },
    {
      "cell_type": "code",
      "metadata": {
        "id": "wtp_qOw8xxVH",
        "colab_type": "code",
        "colab": {}
      },
      "source": [
        "tf.test.gpu_device_name()"
      ],
      "execution_count": null,
      "outputs": []
    },
    {
      "cell_type": "markdown",
      "metadata": {
        "id": "zzY7ndjrN2Ug",
        "colab_type": "text"
      },
      "source": [
        "#**Cargar los datos**"
      ]
    },
    {
      "cell_type": "code",
      "metadata": {
        "id": "arnD1SjtJ8lw",
        "colab_type": "code",
        "colab": {}
      },
      "source": [
        "from google.colab import drive\n",
        "drive.mount('/content/drive')"
      ],
      "execution_count": null,
      "outputs": []
    },
    {
      "cell_type": "code",
      "metadata": {
        "id": "z9Fw3gyCZinS",
        "colab_type": "code",
        "colab": {}
      },
      "source": [
        "# Directorio que contiene las imágenes\n",
        "DATA_DIR = '/content/drive/My Drive/Competicio_Redes_Neuronales'\n",
        "# Nombre de las clases\n",
        "CLASS_NAMES = sorted(os.listdir(str(DATA_DIR) + '/train/train'))\n",
        "print(CLASS_NAMES)"
      ],
      "execution_count": null,
      "outputs": []
    },
    {
      "cell_type": "code",
      "metadata": {
        "id": "ys1Fylii10h5",
        "colab_type": "code",
        "colab": {}
      },
      "source": [
        "train_images = []\n",
        "train_labels = []\n",
        "\n",
        "for c in CLASS_NAMES:\n",
        "  path = DATA_DIR + '/train/train/' + c + '/'\n",
        "  for img in os.listdir(path):\n",
        "    train_images.append(cv2.imread(path + img))\n",
        "    train_labels.append(c)\n",
        "\n",
        "np.save(DATA_DIR + 'train_images.npy', train_images)\n",
        "np.save(DATA_DIR + 'train_labels.npy', train_images)\n",
        "\n"
      ],
      "execution_count": null,
      "outputs": []
    },
    {
      "cell_type": "markdown",
      "metadata": {
        "id": "mgcWyyWT7MG3",
        "colab_type": "text"
      },
      "source": [
        "## Train"
      ]
    },
    {
      "cell_type": "code",
      "metadata": {
        "id": "xIEJPcNDel8h",
        "colab_type": "code",
        "colab": {}
      },
      "source": [
        "# Imágenes de train\n",
        "train_images = np.load(DATA_DIR + '/train_images.npy')\n",
        "# Etiquetas de imágenes de train\n",
        "train_labels = np.load(DATA_DIR + '/train_labels.npy')"
      ],
      "execution_count": null,
      "outputs": []
    },
    {
      "cell_type": "code",
      "metadata": {
        "id": "tRJXJYb6tb1y",
        "colab_type": "code",
        "colab": {}
      },
      "source": [
        "np.shape(train_images), np.shape(train_labels)"
      ],
      "execution_count": null,
      "outputs": []
    },
    {
      "cell_type": "markdown",
      "metadata": {
        "id": "2ervlkDyTsT6",
        "colab_type": "text"
      },
      "source": [
        "## Separación en Sub-Train y Validación"
      ]
    },
    {
      "cell_type": "code",
      "metadata": {
        "id": "GeFRhG3wTzQ5",
        "colab_type": "code",
        "colab": {}
      },
      "source": [
        "from sklearn.model_selection import train_test_split\n",
        "\n",
        "# Dividiendo el conjunto de train en train y validacion\n",
        "sub_train_images, validation_images, sub_train_labels, validation_labels = train_test_split(train_images, train_labels, test_size=0.15, random_state=42)"
      ],
      "execution_count": null,
      "outputs": []
    },
    {
      "cell_type": "code",
      "metadata": {
        "id": "KARQXCFqUUPv",
        "colab_type": "code",
        "colab": {}
      },
      "source": [
        "np.shape(sub_train_images), np.shape(sub_train_labels), np.shape(validation_images), np.shape(validation_labels)"
      ],
      "execution_count": null,
      "outputs": []
    },
    {
      "cell_type": "markdown",
      "metadata": {
        "id": "aqkJetvs7P8H",
        "colab_type": "text"
      },
      "source": [
        "## Test"
      ]
    },
    {
      "cell_type": "code",
      "metadata": {
        "id": "db7O4cA1tB6r",
        "colab_type": "code",
        "colab": {}
      },
      "source": [
        "# Imágenes de test\n",
        "test_images = np.load(DATA_DIR + '/test_images.npy')\n",
        "# Nombres de imágenes de test\n",
        "test_names = []\n",
        "\n",
        "path = DATA_DIR + '/validacion/validacion/'\n",
        "for img in os.listdir(path):\n",
        "  test_names.append(img)"
      ],
      "execution_count": null,
      "outputs": []
    },
    {
      "cell_type": "code",
      "metadata": {
        "id": "ekBp6Em2Pl3U",
        "colab_type": "code",
        "colab": {}
      },
      "source": [
        "np.shape(test_images), np.shape(test_names)"
      ],
      "execution_count": null,
      "outputs": []
    },
    {
      "cell_type": "markdown",
      "metadata": {
        "id": "nt-lb2CTFg0_",
        "colab_type": "text"
      },
      "source": [
        "# Modelo"
      ]
    },
    {
      "cell_type": "markdown",
      "metadata": {
        "id": "hdsuPirk8j4D",
        "colab_type": "text"
      },
      "source": [
        "## Creación"
      ]
    },
    {
      "cell_type": "code",
      "metadata": {
        "id": "X_dIAQNhFr8C",
        "colab_type": "code",
        "colab": {}
      },
      "source": [
        "IMG_SHAPE = (256, 256, 3)\n",
        "\n",
        "def create_model():\n",
        "  # Modelo Predefinido (Se selecciona alguno de los modelos preentrenados)\n",
        "  base_model = tf.keras.applications.ResNet50(input_shape=IMG_SHAPE, include_top=False, pooling = 'avg', weights='imagenet')\n",
        "\n",
        "  # Inicialización del modelo\n",
        "  model = tf.keras.Sequential()\n",
        "  \n",
        "  model.add(base_model)\n",
        "\n",
        "  model.add(keras.layers.Flatten())\n",
        "  # model.add(keras.layers.Dense(1024, activation='relu'))\n",
        "  # model.add(keras.layers.Dense(512, activation='relu'))\n",
        "  # model.add(keras.layers.Dense(256, activation='relu'))\n",
        "  # model.add(keras.layers.Dense(128, activation='relu'))\n",
        "  # model.add(keras.layers.Dense(64, activation='relu'))\n",
        "  \n",
        "  # Capa Dense para clasificacion\n",
        "  model.add(keras.layers.Dense(45, activation='softmax'))\n",
        "\n",
        "  # Compilando el modelo\n",
        "  model.compile(optimizer=tf.keras.optimizers.RMSprop(lr=0.0001), loss=tf.keras.losses.CategoricalCrossentropy(from_logits=True), metrics=['accuracy'])\n",
        "\n",
        "  return model"
      ],
      "execution_count": null,
      "outputs": []
    },
    {
      "cell_type": "code",
      "metadata": {
        "id": "VsEdX6UAzjGx",
        "colab_type": "code",
        "colab": {}
      },
      "source": [
        "# Creando el modelo\n",
        "model = create_model()\n",
        "model.summary()"
      ],
      "execution_count": null,
      "outputs": []
    },
    {
      "cell_type": "markdown",
      "metadata": {
        "id": "1vda7ZqRCq7i",
        "colab_type": "text"
      },
      "source": [
        "### Cargando modelos guardados (opcional)"
      ]
    },
    {
      "cell_type": "code",
      "metadata": {
        "id": "9Ve8Npo2vo7g",
        "colab_type": "code",
        "colab": {}
      },
      "source": [
        "model.load_weights('/content/drive/model_resnet50_epoch_12.h5')\n",
        "validation_loss, validation_acc = model.evaluate(validation_images, validation_labels, batch_size = 1)\n",
        "\n",
        "(validation_loss, validation_acc)"
      ],
      "execution_count": null,
      "outputs": []
    },
    {
      "cell_type": "markdown",
      "metadata": {
        "id": "shHfEmreDCwx",
        "colab_type": "text"
      },
      "source": [
        "## Entrenando el Modelo"
      ]
    },
    {
      "cell_type": "code",
      "metadata": {
        "id": "pFxnjKOk8jma",
        "colab_type": "code",
        "colab": {}
      },
      "source": [
        "for j in range(0, 20):\n",
        "  # Entrenando el modelo\n",
        "  history = model.fit(sub_train_images, sub_train_labels, epochs = 1, validation_data=(validation_images, validation_labels))\n",
        "\n",
        "  # Guardando los pesos del modelo por cada epoca\n",
        "  model.save_weights('/content/drive/My Drive/model_resnet50_epoch_' + str((j+1)*1) + '.h5')"
      ],
      "execution_count": null,
      "outputs": []
    },
    {
      "cell_type": "markdown",
      "metadata": {
        "id": "ZDrg5c3rZD-9",
        "colab_type": "text"
      },
      "source": [
        "## Entrenando modelo con todos los datos"
      ]
    },
    {
      "cell_type": "code",
      "metadata": {
        "id": "wkX9x4x3ZH4t",
        "colab_type": "code",
        "colab": {}
      },
      "source": [
        "for j in range(0, 10):\n",
        "  # Entrenando el modelo\n",
        "  history = model.fit(train_images, train_labels, epochs = 1)\n",
        "\n",
        "  # Guardando los pesos del modelo por cada epoca\n",
        "  model.save_weights('/content/drive/My Drive/model_resnet50_epoch_' + str((j+1)*1) + '.h5')"
      ],
      "execution_count": null,
      "outputs": []
    },
    {
      "cell_type": "code",
      "metadata": {
        "id": "eVPJO-ChbkOC",
        "colab_type": "code",
        "colab": {}
      },
      "source": [
        "# Realizando predicciones\n",
        "predictions = model.predict_classes(test_images)"
      ],
      "execution_count": null,
      "outputs": []
    },
    {
      "cell_type": "markdown",
      "metadata": {
        "id": "1o4YBPPMnfAc",
        "colab_type": "text"
      },
      "source": [
        "# Modelo con ImageDataGenerator"
      ]
    },
    {
      "cell_type": "markdown",
      "metadata": {
        "id": "ARV_zgQ1pcw1",
        "colab_type": "text"
      },
      "source": [
        "## Generadores"
      ]
    },
    {
      "cell_type": "code",
      "metadata": {
        "id": "9gILpE82oIm6",
        "colab_type": "code",
        "colab": {}
      },
      "source": [
        "batch_size = 32\n",
        "\n",
        "train_generator =  keras.preprocessing.image.ImageDataGenerator(rescale=1./255,                                \n",
        "                                     rotation_range=45,\n",
        "                                     horizontal_flip=True).flow_from_directory(DATA_DIR + '/train/train',\n",
        "                                                                               shuffle=True, target_size=(256, 256),\n",
        "                                                                               batch_size=batch_size, class_mode='categorical')\n",
        "                                     \n",
        "\n",
        "validation_generator = keras.preprocessing.image.ImageDataGenerator(rescale=1./255).flow_from_directory(DATA_DIR + '/validacion/validacion (separadas)', target_size=(256, 256), batch_size=batch_size, class_mode='categorical')"
      ],
      "execution_count": null,
      "outputs": []
    },
    {
      "cell_type": "code",
      "metadata": {
        "id": "BNYDlTwRloLO",
        "colab_type": "code",
        "colab": {}
      },
      "source": [
        "validation_generator.class_indices"
      ],
      "execution_count": null,
      "outputs": []
    },
    {
      "cell_type": "markdown",
      "metadata": {
        "id": "icw6vpHRpfmh",
        "colab_type": "text"
      },
      "source": [
        "## Creación"
      ]
    },
    {
      "cell_type": "code",
      "metadata": {
        "id": "A8RlICdVnlYL",
        "colab_type": "code",
        "colab": {}
      },
      "source": [
        "# Creando el modelo\n",
        "model = create_model()\n",
        "model.summary()"
      ],
      "execution_count": null,
      "outputs": []
    },
    {
      "cell_type": "markdown",
      "metadata": {
        "id": "coBjEuBEnRMA",
        "colab_type": "text"
      },
      "source": [
        "## Cargando modelos guardados (Opcional)"
      ]
    },
    {
      "cell_type": "code",
      "metadata": {
        "id": "IpprSVjwnBCD",
        "colab_type": "code",
        "colab": {}
      },
      "source": [
        "model.load_weights('/content/drive/My Drive/model_densenet201_generatorV2_12_epoch_14.h5')\n",
        "\n",
        "validation_loss, validation_acc = model.evaluate_generator(generator = validation_generator, verbose=1)\n",
        "(validation_loss, validation_acc)"
      ],
      "execution_count": null,
      "outputs": []
    },
    {
      "cell_type": "markdown",
      "metadata": {
        "id": "CVDx4OGGpTlk",
        "colab_type": "text"
      },
      "source": [
        "## Entrenando el modelo"
      ]
    },
    {
      "cell_type": "code",
      "metadata": {
        "id": "r2xY7KgKpSw8",
        "colab_type": "code",
        "colab": {}
      },
      "source": [
        "for j in range(0, 30):\n",
        "  print(\"Epoch: \" + str(j) + \" ---------- \")\n",
        "  \n",
        "  model.fit_generator(\n",
        "          train_generator,\n",
        "          steps_per_epoch= (24660 // batch_size) + 1,\n",
        "          epochs = 1,\n",
        "          validation_data = validation_generator,\n",
        "          validation_steps = (3080 // batch_size) + 1)\n",
        "  \n",
        "  model.save_weights('/content/drive/My Drive/model_densenet201_generatorV2_12_epoch_' + str((j+1)*1) + '.h5')"
      ],
      "execution_count": null,
      "outputs": []
    },
    {
      "cell_type": "markdown",
      "metadata": {
        "id": "152JHsBHYJ0k",
        "colab_type": "text"
      },
      "source": [
        "## Generando predicciones"
      ]
    },
    {
      "cell_type": "code",
      "metadata": {
        "id": "BjW7jdOlYEQo",
        "colab_type": "code",
        "colab": {}
      },
      "source": [
        "# Realizando predicciones\n",
        "validation_generator.reset()\n",
        "predictions = model.predict_generator(validation_generator, workers=0)\n",
        "\n",
        "results = []\n",
        "for i in range(len(predictions)):\n",
        "  results.append((validation_generator.filenames[validation_generator.index_array[i]].split('/')[1], predictions[i]))\n",
        "results = sorted(results)\n",
        "\n",
        "# Predicciones para fusión de modelos\n",
        "densenet201_generator_predictions = []\n",
        "for i in range(len(results)):\n",
        "  densenet201_generator_predictions.append(results[i][1])\n",
        "\n",
        "# Predicciones propias del modelo\n",
        "predictions = np.argmax(densenet201_generator_predictions, axis=-1)"
      ],
      "execution_count": null,
      "outputs": []
    },
    {
      "cell_type": "code",
      "metadata": {
        "id": "8BatLiJ8eSSU",
        "colab_type": "code",
        "colab": {}
      },
      "source": [
        "densenet201_generator_predictions[1]"
      ],
      "execution_count": null,
      "outputs": []
    },
    {
      "cell_type": "markdown",
      "metadata": {
        "id": "8aJgRRkZjJG7",
        "colab_type": "text"
      },
      "source": [
        "# Fusion de modelos"
      ]
    },
    {
      "cell_type": "markdown",
      "metadata": {
        "id": "JKMFIkDErMJO",
        "colab_type": "text"
      },
      "source": [
        "## Cargando modelos"
      ]
    },
    {
      "cell_type": "code",
      "metadata": {
        "id": "hLsSrPzIoC9E",
        "colab_type": "code",
        "colab": {}
      },
      "source": [
        "# Model Xception\n",
        "json_file = open('/content/drive/My Drive/Competicio_Redes_Neuronales/modelos_fusion/model_xception.json', 'r')\n",
        "loaded_model_json = json_file.read()\n",
        "json_file.close()\n",
        "model_xception = keras.models.model_from_json(loaded_model_json)\n",
        "model_xception.load_weights(\"/content/drive/My Drive/Competicio_Redes_Neuronales/modelos_fusion/model_xception.h5\")\n",
        "model_xception.compile(optimizer=tf.keras.optimizers.RMSprop(lr=0.0001), loss=tf.keras.losses.CategoricalCrossentropy(from_logits=True), metrics=['accuracy'])\n",
        "\n",
        "# Model Resnet50\n",
        "json_file = open('/content/drive/My Drive/Competicio_Redes_Neuronales/modelos_fusion/model_resnet50.json', 'r')\n",
        "loaded_model_json = json_file.read()\n",
        "json_file.close()\n",
        "model_resnet50 = keras.models.model_from_json(loaded_model_json)\n",
        "model_resnet50.load_weights(\"/content/drive/My Drive/Competicio_Redes_Neuronales/modelos_fusion/model_resnet50.h5\")\n",
        "model_resnet50.compile(optimizer=tf.keras.optimizers.RMSprop(lr=0.0001), loss=tf.keras.losses.CategoricalCrossentropy(from_logits=True), metrics=['accuracy'])\n",
        "\n",
        "# Model Resnet152\n",
        "json_file = open('/content/drive/My Drive/Competicio_Redes_Neuronales/modelos_fusion/model_resnet152.json', 'r')\n",
        "loaded_model_json = json_file.read()\n",
        "json_file.close()\n",
        "model_resnet152 = keras.models.model_from_json(loaded_model_json)\n",
        "model_resnet152.load_weights(\"/content/drive/My Drive/Competicio_Redes_Neuronales/modelos_fusion/model_resnet152.h5\")\n",
        "model_resnet152.compile(optimizer=tf.keras.optimizers.RMSprop(lr=0.0001), loss=tf.keras.losses.CategoricalCrossentropy(from_logits=True), metrics=['accuracy'])\n",
        "\n",
        "# Model DenseNet121\n",
        "json_file = open('/content/drive/My Drive/Competicio_Redes_Neuronales/modelos_fusion/model_densenet121.json', 'r')\n",
        "loaded_model_json = json_file.read()\n",
        "json_file.close()\n",
        "model_densenet121 = keras.models.model_from_json(loaded_model_json)\n",
        "model_densenet121.load_weights(\"/content/drive/My Drive/Competicio_Redes_Neuronales/modelos_fusion/model_densenet121.h5\")\n",
        "model_densenet121.compile(optimizer=tf.keras.optimizers.RMSprop(lr=0.0001), loss=tf.keras.losses.CategoricalCrossentropy(from_logits=True), metrics=['accuracy'])\n",
        "\n",
        "# Model DenseNet169\n",
        "json_file = open('/content/drive/My Drive/Competicio_Redes_Neuronales/modelos_fusion/model_densenet169.json', 'r')\n",
        "loaded_model_json = json_file.read()\n",
        "json_file.close()\n",
        "model_densenet169 = keras.models.model_from_json(loaded_model_json)\n",
        "model_densenet169.load_weights(\"/content/drive/My Drive/Competicio_Redes_Neuronales/modelos_fusion/model_densenet169.h5\")\n",
        "model_densenet169.compile(optimizer=tf.keras.optimizers.RMSprop(lr=0.0001), loss=tf.keras.losses.CategoricalCrossentropy(from_logits=True), metrics=['accuracy'])\n",
        "\n",
        "# Model DenseNet201\n",
        "json_file = open('/content/drive/My Drive/Competicio_Redes_Neuronales/modelos_fusion/model_densenet201.json', 'r')\n",
        "loaded_model_json = json_file.read()\n",
        "json_file.close()\n",
        "model_densenet201 = keras.models.model_from_json(loaded_model_json)\n",
        "model_densenet201.load_weights(\"/content/drive/My Drive/Competicio_Redes_Neuronales/modelos_fusion/model_densenet201.h5\")\n",
        "model_densenet201.compile(optimizer=tf.keras.optimizers.RMSprop(lr=0.0001), loss=tf.keras.losses.CategoricalCrossentropy(from_logits=True), metrics=['accuracy'])"
      ],
      "execution_count": null,
      "outputs": []
    },
    {
      "cell_type": "markdown",
      "metadata": {
        "id": "4PfXejnruUxM",
        "colab_type": "text"
      },
      "source": [
        "## Vote fusion"
      ]
    },
    {
      "cell_type": "code",
      "metadata": {
        "id": "ecf6RE6YrTAS",
        "colab_type": "code",
        "colab": {}
      },
      "source": [
        "xception_predictions = model_xception.predict_classes(test_images)\n",
        "resnet50_predictions = model_resnet50.predict_classes(test_images)\n",
        "resnet152_predictions = model_resnet152.predict_classes(test_images)\n",
        "densenet121_predictions = model_densenet121.predict_classes(test_images)\n",
        "densenet169_predictions = model_densenet169.predict_classes(test_images)\n",
        "densenet201_predictions = model_densenet201.predict_classes(test_images)"
      ],
      "execution_count": null,
      "outputs": []
    },
    {
      "cell_type": "code",
      "metadata": {
        "id": "ZobT9Wasrv6P",
        "colab_type": "code",
        "colab": {}
      },
      "source": [
        "predictions = []\n",
        "for i in range(3080):\n",
        "  predictions.append(scipy.stats.mode([xception_predictions[i], resnet50_predictions[i], resnet152_predictions[i], densenet121_predictions[i], densenet201_predictions[i]])[0][0])\n"
      ],
      "execution_count": null,
      "outputs": []
    },
    {
      "cell_type": "markdown",
      "metadata": {
        "id": "fgdpiddn1KlI",
        "colab_type": "text"
      },
      "source": [
        "## Otras medidas"
      ]
    },
    {
      "cell_type": "code",
      "metadata": {
        "id": "Cb8ivFmo1Oo2",
        "colab_type": "code",
        "colab": {}
      },
      "source": [
        "xception_predictions = model_xception.predict(test_images)\n",
        "resnet50_predictions = model_resnet50.predict(test_images)\n",
        "resnet152_predictions = model_resnet152.predict(test_images)\n",
        "densenet121_predictions = model_densenet121.predict(test_images)\n",
        "densenet169_predictions = model_densenet169.predict(test_images)\n",
        "densenet201_predictions = model_densenet201.predict(test_images)"
      ],
      "execution_count": null,
      "outputs": []
    },
    {
      "cell_type": "markdown",
      "metadata": {
        "id": "ODzmWdNN9UNh",
        "colab_type": "text"
      },
      "source": [
        "## Media Armónica"
      ]
    },
    {
      "cell_type": "markdown",
      "metadata": {
        "id": "AE5_4X3v4Xoz",
        "colab_type": "text"
      },
      "source": [
        "Consideremos $n$ modelos distintos para fusionar, para cada imagen los modelos nos devuelven un vector de $45$ elementos, la posición del elemento de ese vector nos da la probabilidad de pertenencia a esa clase. Sean pues:\n",
        "$$X_1 = \\text{modelo } 1,$$\n",
        "$$X_2 = \\text{modelo } 2,$$\n",
        "$$ \\vdots $$\n",
        "$$X_n = \\text{modelo } n,$$\n",
        "El modelo $j$  viene dado por la siguiente matriz:\n",
        "$$ X_j =\n",
        "\\left( \\begin{array}{cccc}\n",
        " p_{j,1}^1 & p_{j,1}^2 & \\cdots & p_{j,1}^{45} \\\\ \n",
        " p_{j,2}^{1} & p_{j,2}^{2} & \\cdots & p_{j,2}^{45} \\\\\n",
        " \\vdots & \\vdots & \\ddots & \\vdots \\\\\n",
        " p_{j,3080}^{1} & p_{j,3080}^{2} & \\cdots & p_{j,3080}^{45}\n",
        "\\end{array} \\right) $$\n",
        "Podemos hacer distintas medias de centralización para obtener probabilidades medias usando todos los métodos. Calcularemos la media armónica de las matrices obteniendo así una matriz de probabilidades que fusiona los $n$ modelos. La media armónica de que la primera imagen pertenezca a la clase 1 viene dado por:\n",
        "$$H = \\frac{n}{1/p_{1,1}^1+1/p_{2,1}^1 + \\cdots 1/p_{n,1}^1 }. $$ \n",
        "La media armónica resulta poco influida por la existencia de determinados valores mucho más grandes que el conjunto de los otros, siendo en cambio sensible a valores mucho más pequeños que el conjunto. La media armónica no está definida en el caso de que exista algún valor nulo."
      ]
    },
    {
      "cell_type": "code",
      "metadata": {
        "id": "K5Nxz_t69X_n",
        "colab_type": "code",
        "colab": {}
      },
      "source": [
        "predictions = np.argmax(5.0/(1.0/xception_predictions + 1.0/resnet152_predictions + 1.0/densenet121_predictions + 1.0/densenet169_predictions + 1.0/densenet201_predictions), axis=-1)"
      ],
      "execution_count": null,
      "outputs": []
    },
    {
      "cell_type": "markdown",
      "metadata": {
        "id": "ze6gypk89PhA",
        "colab_type": "text"
      },
      "source": [
        "## Media Geométrica"
      ]
    },
    {
      "cell_type": "code",
      "metadata": {
        "id": "6yuujAAt17Tx",
        "colab_type": "code",
        "colab": {}
      },
      "source": [
        "  predictions = np.argmax(np.power(np.multiply(densenet201_predictions, np.multiply(densenet121_predictions, np.multiply(xception_predictions,resnet152_predictions))), 0.25), axis = -1)"
      ],
      "execution_count": null,
      "outputs": []
    },
    {
      "cell_type": "markdown",
      "metadata": {
        "id": "G25I2pShrGxO",
        "colab_type": "text"
      },
      "source": [
        ""
      ]
    },
    {
      "cell_type": "markdown",
      "metadata": {
        "id": "yyUcDsExnXl-",
        "colab_type": "text"
      },
      "source": [
        "## Modelo más seguro de su clasificación"
      ]
    },
    {
      "cell_type": "code",
      "metadata": {
        "id": "cbwSKAS3nmkF",
        "colab_type": "code",
        "colab": {}
      },
      "source": [
        "# Nos quedamos con la predicción del modelo que más seguro esté de su desición\n",
        "predictions = []\n",
        "\n",
        "for img in range(3080):\n",
        "  m = np.max(densenet201_generator_predictions[img])\n",
        "  i = np.argmax(densenet201_generator_predictions[img])\n",
        "\n",
        "  if(m <= np.max(densenet201_predictions[img])):\n",
        "    m = np.max(densenet201_predictions[img])\n",
        "    i = np.argmax(densenet201_predictions[img])\n",
        "  \n",
        "  predictions.append(i)"
      ],
      "execution_count": null,
      "outputs": []
    },
    {
      "cell_type": "markdown",
      "metadata": {
        "id": "It4H0CvTDIDK",
        "colab_type": "text"
      },
      "source": [
        "# Guardando predicciones"
      ]
    },
    {
      "cell_type": "code",
      "metadata": {
        "id": "-nfE4lmeupks",
        "colab_type": "code",
        "colab": {}
      },
      "source": [
        "# Generando archivo .csv\n",
        "with open('/content/drive/My Drive/submission.csv', 'w', newline='') as file:\n",
        "    writer = csv.writer(file)\n",
        "    writer.writerow([\"ID\", \"Category\"])\n",
        "    for i in range(len(predictions):\n",
        "          writer.writerow([str(test_names[i]), str(predictions[i])])"
      ],
      "execution_count": null,
      "outputs": []
    },
    {
      "cell_type": "code",
      "metadata": {
        "id": "7wNcq5iu9anx",
        "colab_type": "code",
        "colab": {}
      },
      "source": [
        ""
      ],
      "execution_count": null,
      "outputs": []
    }
  ]
}